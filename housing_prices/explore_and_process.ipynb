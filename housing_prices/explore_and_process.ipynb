{
 "cells": [
  {
   "cell_type": "markdown",
   "id": "72ed0538",
   "metadata": {
    "toc": true
   },
   "source": [
    "<h1>Table of Contents<span class=\"tocSkip\"></span></h1>\n",
    "<div class=\"toc\"><ul class=\"toc-item\"></ul></div>"
   ]
  },
  {
   "cell_type": "code",
   "execution_count": 122,
   "id": "c87de194",
   "metadata": {
    "_cell_guid": "b1076dfc-b9ad-4769-8c92-a6c4dae69d19",
    "_uuid": "8f2839f25d086af736a60e9eeb907d3b93b6e0e5",
    "execution": {
     "iopub.execute_input": "2021-10-21T05:44:30.566645Z",
     "iopub.status.busy": "2021-10-21T05:44:30.558501Z",
     "iopub.status.idle": "2021-10-21T05:44:33.439893Z",
     "shell.execute_reply": "2021-10-21T05:44:33.439039Z",
     "shell.execute_reply.started": "2021-10-21T05:41:57.877467Z"
    },
    "papermill": {
     "duration": 2.919449,
     "end_time": "2021-10-21T05:44:33.440079",
     "exception": false,
     "start_time": "2021-10-21T05:44:30.520630",
     "status": "completed"
    },
    "tags": []
   },
   "outputs": [],
   "source": [
    "import matplotlib.pyplot as plt\n",
    "import numpy as np \n",
    "import os\n",
    "import pandas as pd \n",
    "import seaborn as sns"
   ]
  },
  {
   "cell_type": "code",
   "execution_count": 138,
   "id": "a74df5e7",
   "metadata": {},
   "outputs": [],
   "source": [
    "working_dir = os.getcwd()\n",
    "data_path = working_dir + '/data/'\n",
    "kaggle_path = data_path + '/kaggle/'"
   ]
  },
  {
   "cell_type": "code",
   "execution_count": 139,
   "id": "d3474e69",
   "metadata": {
    "execution": {
     "iopub.execute_input": "2021-10-21T05:44:33.492675Z",
     "iopub.status.busy": "2021-10-21T05:44:33.491818Z",
     "iopub.status.idle": "2021-10-21T05:44:33.585168Z",
     "shell.execute_reply": "2021-10-21T05:44:33.584479Z",
     "shell.execute_reply.started": "2021-10-21T05:42:06.621316Z"
    },
    "papermill": {
     "duration": 0.121338,
     "end_time": "2021-10-21T05:44:33.585340",
     "exception": false,
     "start_time": "2021-10-21T05:44:33.464002",
     "status": "completed"
    },
    "tags": []
   },
   "outputs": [],
   "source": [
    "#load our training set and testing set\n",
    "training_set = pd.read_csv(kaggle_path + \"train.csv\", index_col= 'Id')\n",
    "testing_set = pd.read_csv(kaggle_path + \"test.csv\", index_col = 'Id')"
   ]
  },
  {
   "cell_type": "code",
   "execution_count": 125,
   "id": "f39ed82a",
   "metadata": {
    "execution": {
     "iopub.execute_input": "2021-10-21T05:44:33.644210Z",
     "iopub.status.busy": "2021-10-21T05:44:33.643257Z",
     "iopub.status.idle": "2021-10-21T05:44:33.683830Z",
     "shell.execute_reply": "2021-10-21T05:44:33.684373Z",
     "shell.execute_reply.started": "2021-10-21T05:42:10.820389Z"
    },
    "papermill": {
     "duration": 0.074933,
     "end_time": "2021-10-21T05:44:33.684559",
     "exception": false,
     "start_time": "2021-10-21T05:44:33.609626",
     "status": "completed"
    },
    "tags": []
   },
   "outputs": [
    {
     "data": {
      "text/html": [
       "<div>\n",
       "<style scoped>\n",
       "    .dataframe tbody tr th:only-of-type {\n",
       "        vertical-align: middle;\n",
       "    }\n",
       "\n",
       "    .dataframe tbody tr th {\n",
       "        vertical-align: top;\n",
       "    }\n",
       "\n",
       "    .dataframe thead th {\n",
       "        text-align: right;\n",
       "    }\n",
       "</style>\n",
       "<table border=\"1\" class=\"dataframe\">\n",
       "  <thead>\n",
       "    <tr style=\"text-align: right;\">\n",
       "      <th></th>\n",
       "      <th>MSSubClass</th>\n",
       "      <th>MSZoning</th>\n",
       "      <th>LotFrontage</th>\n",
       "      <th>LotArea</th>\n",
       "      <th>Street</th>\n",
       "      <th>Alley</th>\n",
       "      <th>LotShape</th>\n",
       "      <th>LandContour</th>\n",
       "      <th>Utilities</th>\n",
       "      <th>LotConfig</th>\n",
       "      <th>...</th>\n",
       "      <th>PoolArea</th>\n",
       "      <th>PoolQC</th>\n",
       "      <th>Fence</th>\n",
       "      <th>MiscFeature</th>\n",
       "      <th>MiscVal</th>\n",
       "      <th>MoSold</th>\n",
       "      <th>YrSold</th>\n",
       "      <th>SaleType</th>\n",
       "      <th>SaleCondition</th>\n",
       "      <th>SalePrice</th>\n",
       "    </tr>\n",
       "    <tr>\n",
       "      <th>Id</th>\n",
       "      <th></th>\n",
       "      <th></th>\n",
       "      <th></th>\n",
       "      <th></th>\n",
       "      <th></th>\n",
       "      <th></th>\n",
       "      <th></th>\n",
       "      <th></th>\n",
       "      <th></th>\n",
       "      <th></th>\n",
       "      <th></th>\n",
       "      <th></th>\n",
       "      <th></th>\n",
       "      <th></th>\n",
       "      <th></th>\n",
       "      <th></th>\n",
       "      <th></th>\n",
       "      <th></th>\n",
       "      <th></th>\n",
       "      <th></th>\n",
       "      <th></th>\n",
       "    </tr>\n",
       "  </thead>\n",
       "  <tbody>\n",
       "    <tr>\n",
       "      <th>1</th>\n",
       "      <td>60</td>\n",
       "      <td>RL</td>\n",
       "      <td>65.0</td>\n",
       "      <td>8450</td>\n",
       "      <td>Pave</td>\n",
       "      <td>NaN</td>\n",
       "      <td>Reg</td>\n",
       "      <td>Lvl</td>\n",
       "      <td>AllPub</td>\n",
       "      <td>Inside</td>\n",
       "      <td>...</td>\n",
       "      <td>0</td>\n",
       "      <td>NaN</td>\n",
       "      <td>NaN</td>\n",
       "      <td>NaN</td>\n",
       "      <td>0</td>\n",
       "      <td>2</td>\n",
       "      <td>2008</td>\n",
       "      <td>WD</td>\n",
       "      <td>Normal</td>\n",
       "      <td>208500</td>\n",
       "    </tr>\n",
       "    <tr>\n",
       "      <th>2</th>\n",
       "      <td>20</td>\n",
       "      <td>RL</td>\n",
       "      <td>80.0</td>\n",
       "      <td>9600</td>\n",
       "      <td>Pave</td>\n",
       "      <td>NaN</td>\n",
       "      <td>Reg</td>\n",
       "      <td>Lvl</td>\n",
       "      <td>AllPub</td>\n",
       "      <td>FR2</td>\n",
       "      <td>...</td>\n",
       "      <td>0</td>\n",
       "      <td>NaN</td>\n",
       "      <td>NaN</td>\n",
       "      <td>NaN</td>\n",
       "      <td>0</td>\n",
       "      <td>5</td>\n",
       "      <td>2007</td>\n",
       "      <td>WD</td>\n",
       "      <td>Normal</td>\n",
       "      <td>181500</td>\n",
       "    </tr>\n",
       "    <tr>\n",
       "      <th>3</th>\n",
       "      <td>60</td>\n",
       "      <td>RL</td>\n",
       "      <td>68.0</td>\n",
       "      <td>11250</td>\n",
       "      <td>Pave</td>\n",
       "      <td>NaN</td>\n",
       "      <td>IR1</td>\n",
       "      <td>Lvl</td>\n",
       "      <td>AllPub</td>\n",
       "      <td>Inside</td>\n",
       "      <td>...</td>\n",
       "      <td>0</td>\n",
       "      <td>NaN</td>\n",
       "      <td>NaN</td>\n",
       "      <td>NaN</td>\n",
       "      <td>0</td>\n",
       "      <td>9</td>\n",
       "      <td>2008</td>\n",
       "      <td>WD</td>\n",
       "      <td>Normal</td>\n",
       "      <td>223500</td>\n",
       "    </tr>\n",
       "    <tr>\n",
       "      <th>4</th>\n",
       "      <td>70</td>\n",
       "      <td>RL</td>\n",
       "      <td>60.0</td>\n",
       "      <td>9550</td>\n",
       "      <td>Pave</td>\n",
       "      <td>NaN</td>\n",
       "      <td>IR1</td>\n",
       "      <td>Lvl</td>\n",
       "      <td>AllPub</td>\n",
       "      <td>Corner</td>\n",
       "      <td>...</td>\n",
       "      <td>0</td>\n",
       "      <td>NaN</td>\n",
       "      <td>NaN</td>\n",
       "      <td>NaN</td>\n",
       "      <td>0</td>\n",
       "      <td>2</td>\n",
       "      <td>2006</td>\n",
       "      <td>WD</td>\n",
       "      <td>Abnorml</td>\n",
       "      <td>140000</td>\n",
       "    </tr>\n",
       "    <tr>\n",
       "      <th>5</th>\n",
       "      <td>60</td>\n",
       "      <td>RL</td>\n",
       "      <td>84.0</td>\n",
       "      <td>14260</td>\n",
       "      <td>Pave</td>\n",
       "      <td>NaN</td>\n",
       "      <td>IR1</td>\n",
       "      <td>Lvl</td>\n",
       "      <td>AllPub</td>\n",
       "      <td>FR2</td>\n",
       "      <td>...</td>\n",
       "      <td>0</td>\n",
       "      <td>NaN</td>\n",
       "      <td>NaN</td>\n",
       "      <td>NaN</td>\n",
       "      <td>0</td>\n",
       "      <td>12</td>\n",
       "      <td>2008</td>\n",
       "      <td>WD</td>\n",
       "      <td>Normal</td>\n",
       "      <td>250000</td>\n",
       "    </tr>\n",
       "    <tr>\n",
       "      <th>6</th>\n",
       "      <td>50</td>\n",
       "      <td>RL</td>\n",
       "      <td>85.0</td>\n",
       "      <td>14115</td>\n",
       "      <td>Pave</td>\n",
       "      <td>NaN</td>\n",
       "      <td>IR1</td>\n",
       "      <td>Lvl</td>\n",
       "      <td>AllPub</td>\n",
       "      <td>Inside</td>\n",
       "      <td>...</td>\n",
       "      <td>0</td>\n",
       "      <td>NaN</td>\n",
       "      <td>MnPrv</td>\n",
       "      <td>Shed</td>\n",
       "      <td>700</td>\n",
       "      <td>10</td>\n",
       "      <td>2009</td>\n",
       "      <td>WD</td>\n",
       "      <td>Normal</td>\n",
       "      <td>143000</td>\n",
       "    </tr>\n",
       "    <tr>\n",
       "      <th>7</th>\n",
       "      <td>20</td>\n",
       "      <td>RL</td>\n",
       "      <td>75.0</td>\n",
       "      <td>10084</td>\n",
       "      <td>Pave</td>\n",
       "      <td>NaN</td>\n",
       "      <td>Reg</td>\n",
       "      <td>Lvl</td>\n",
       "      <td>AllPub</td>\n",
       "      <td>Inside</td>\n",
       "      <td>...</td>\n",
       "      <td>0</td>\n",
       "      <td>NaN</td>\n",
       "      <td>NaN</td>\n",
       "      <td>NaN</td>\n",
       "      <td>0</td>\n",
       "      <td>8</td>\n",
       "      <td>2007</td>\n",
       "      <td>WD</td>\n",
       "      <td>Normal</td>\n",
       "      <td>307000</td>\n",
       "    </tr>\n",
       "    <tr>\n",
       "      <th>8</th>\n",
       "      <td>60</td>\n",
       "      <td>RL</td>\n",
       "      <td>NaN</td>\n",
       "      <td>10382</td>\n",
       "      <td>Pave</td>\n",
       "      <td>NaN</td>\n",
       "      <td>IR1</td>\n",
       "      <td>Lvl</td>\n",
       "      <td>AllPub</td>\n",
       "      <td>Corner</td>\n",
       "      <td>...</td>\n",
       "      <td>0</td>\n",
       "      <td>NaN</td>\n",
       "      <td>NaN</td>\n",
       "      <td>Shed</td>\n",
       "      <td>350</td>\n",
       "      <td>11</td>\n",
       "      <td>2009</td>\n",
       "      <td>WD</td>\n",
       "      <td>Normal</td>\n",
       "      <td>200000</td>\n",
       "    </tr>\n",
       "    <tr>\n",
       "      <th>9</th>\n",
       "      <td>50</td>\n",
       "      <td>RM</td>\n",
       "      <td>51.0</td>\n",
       "      <td>6120</td>\n",
       "      <td>Pave</td>\n",
       "      <td>NaN</td>\n",
       "      <td>Reg</td>\n",
       "      <td>Lvl</td>\n",
       "      <td>AllPub</td>\n",
       "      <td>Inside</td>\n",
       "      <td>...</td>\n",
       "      <td>0</td>\n",
       "      <td>NaN</td>\n",
       "      <td>NaN</td>\n",
       "      <td>NaN</td>\n",
       "      <td>0</td>\n",
       "      <td>4</td>\n",
       "      <td>2008</td>\n",
       "      <td>WD</td>\n",
       "      <td>Abnorml</td>\n",
       "      <td>129900</td>\n",
       "    </tr>\n",
       "    <tr>\n",
       "      <th>10</th>\n",
       "      <td>190</td>\n",
       "      <td>RL</td>\n",
       "      <td>50.0</td>\n",
       "      <td>7420</td>\n",
       "      <td>Pave</td>\n",
       "      <td>NaN</td>\n",
       "      <td>Reg</td>\n",
       "      <td>Lvl</td>\n",
       "      <td>AllPub</td>\n",
       "      <td>Corner</td>\n",
       "      <td>...</td>\n",
       "      <td>0</td>\n",
       "      <td>NaN</td>\n",
       "      <td>NaN</td>\n",
       "      <td>NaN</td>\n",
       "      <td>0</td>\n",
       "      <td>1</td>\n",
       "      <td>2008</td>\n",
       "      <td>WD</td>\n",
       "      <td>Normal</td>\n",
       "      <td>118000</td>\n",
       "    </tr>\n",
       "    <tr>\n",
       "      <th>11</th>\n",
       "      <td>20</td>\n",
       "      <td>RL</td>\n",
       "      <td>70.0</td>\n",
       "      <td>11200</td>\n",
       "      <td>Pave</td>\n",
       "      <td>NaN</td>\n",
       "      <td>Reg</td>\n",
       "      <td>Lvl</td>\n",
       "      <td>AllPub</td>\n",
       "      <td>Inside</td>\n",
       "      <td>...</td>\n",
       "      <td>0</td>\n",
       "      <td>NaN</td>\n",
       "      <td>NaN</td>\n",
       "      <td>NaN</td>\n",
       "      <td>0</td>\n",
       "      <td>2</td>\n",
       "      <td>2008</td>\n",
       "      <td>WD</td>\n",
       "      <td>Normal</td>\n",
       "      <td>129500</td>\n",
       "    </tr>\n",
       "    <tr>\n",
       "      <th>12</th>\n",
       "      <td>60</td>\n",
       "      <td>RL</td>\n",
       "      <td>85.0</td>\n",
       "      <td>11924</td>\n",
       "      <td>Pave</td>\n",
       "      <td>NaN</td>\n",
       "      <td>IR1</td>\n",
       "      <td>Lvl</td>\n",
       "      <td>AllPub</td>\n",
       "      <td>Inside</td>\n",
       "      <td>...</td>\n",
       "      <td>0</td>\n",
       "      <td>NaN</td>\n",
       "      <td>NaN</td>\n",
       "      <td>NaN</td>\n",
       "      <td>0</td>\n",
       "      <td>7</td>\n",
       "      <td>2006</td>\n",
       "      <td>New</td>\n",
       "      <td>Partial</td>\n",
       "      <td>345000</td>\n",
       "    </tr>\n",
       "    <tr>\n",
       "      <th>13</th>\n",
       "      <td>20</td>\n",
       "      <td>RL</td>\n",
       "      <td>NaN</td>\n",
       "      <td>12968</td>\n",
       "      <td>Pave</td>\n",
       "      <td>NaN</td>\n",
       "      <td>IR2</td>\n",
       "      <td>Lvl</td>\n",
       "      <td>AllPub</td>\n",
       "      <td>Inside</td>\n",
       "      <td>...</td>\n",
       "      <td>0</td>\n",
       "      <td>NaN</td>\n",
       "      <td>NaN</td>\n",
       "      <td>NaN</td>\n",
       "      <td>0</td>\n",
       "      <td>9</td>\n",
       "      <td>2008</td>\n",
       "      <td>WD</td>\n",
       "      <td>Normal</td>\n",
       "      <td>144000</td>\n",
       "    </tr>\n",
       "    <tr>\n",
       "      <th>14</th>\n",
       "      <td>20</td>\n",
       "      <td>RL</td>\n",
       "      <td>91.0</td>\n",
       "      <td>10652</td>\n",
       "      <td>Pave</td>\n",
       "      <td>NaN</td>\n",
       "      <td>IR1</td>\n",
       "      <td>Lvl</td>\n",
       "      <td>AllPub</td>\n",
       "      <td>Inside</td>\n",
       "      <td>...</td>\n",
       "      <td>0</td>\n",
       "      <td>NaN</td>\n",
       "      <td>NaN</td>\n",
       "      <td>NaN</td>\n",
       "      <td>0</td>\n",
       "      <td>8</td>\n",
       "      <td>2007</td>\n",
       "      <td>New</td>\n",
       "      <td>Partial</td>\n",
       "      <td>279500</td>\n",
       "    </tr>\n",
       "    <tr>\n",
       "      <th>15</th>\n",
       "      <td>20</td>\n",
       "      <td>RL</td>\n",
       "      <td>NaN</td>\n",
       "      <td>10920</td>\n",
       "      <td>Pave</td>\n",
       "      <td>NaN</td>\n",
       "      <td>IR1</td>\n",
       "      <td>Lvl</td>\n",
       "      <td>AllPub</td>\n",
       "      <td>Corner</td>\n",
       "      <td>...</td>\n",
       "      <td>0</td>\n",
       "      <td>NaN</td>\n",
       "      <td>GdWo</td>\n",
       "      <td>NaN</td>\n",
       "      <td>0</td>\n",
       "      <td>5</td>\n",
       "      <td>2008</td>\n",
       "      <td>WD</td>\n",
       "      <td>Normal</td>\n",
       "      <td>157000</td>\n",
       "    </tr>\n",
       "    <tr>\n",
       "      <th>16</th>\n",
       "      <td>45</td>\n",
       "      <td>RM</td>\n",
       "      <td>51.0</td>\n",
       "      <td>6120</td>\n",
       "      <td>Pave</td>\n",
       "      <td>NaN</td>\n",
       "      <td>Reg</td>\n",
       "      <td>Lvl</td>\n",
       "      <td>AllPub</td>\n",
       "      <td>Corner</td>\n",
       "      <td>...</td>\n",
       "      <td>0</td>\n",
       "      <td>NaN</td>\n",
       "      <td>GdPrv</td>\n",
       "      <td>NaN</td>\n",
       "      <td>0</td>\n",
       "      <td>7</td>\n",
       "      <td>2007</td>\n",
       "      <td>WD</td>\n",
       "      <td>Normal</td>\n",
       "      <td>132000</td>\n",
       "    </tr>\n",
       "    <tr>\n",
       "      <th>17</th>\n",
       "      <td>20</td>\n",
       "      <td>RL</td>\n",
       "      <td>NaN</td>\n",
       "      <td>11241</td>\n",
       "      <td>Pave</td>\n",
       "      <td>NaN</td>\n",
       "      <td>IR1</td>\n",
       "      <td>Lvl</td>\n",
       "      <td>AllPub</td>\n",
       "      <td>CulDSac</td>\n",
       "      <td>...</td>\n",
       "      <td>0</td>\n",
       "      <td>NaN</td>\n",
       "      <td>NaN</td>\n",
       "      <td>Shed</td>\n",
       "      <td>700</td>\n",
       "      <td>3</td>\n",
       "      <td>2010</td>\n",
       "      <td>WD</td>\n",
       "      <td>Normal</td>\n",
       "      <td>149000</td>\n",
       "    </tr>\n",
       "    <tr>\n",
       "      <th>18</th>\n",
       "      <td>90</td>\n",
       "      <td>RL</td>\n",
       "      <td>72.0</td>\n",
       "      <td>10791</td>\n",
       "      <td>Pave</td>\n",
       "      <td>NaN</td>\n",
       "      <td>Reg</td>\n",
       "      <td>Lvl</td>\n",
       "      <td>AllPub</td>\n",
       "      <td>Inside</td>\n",
       "      <td>...</td>\n",
       "      <td>0</td>\n",
       "      <td>NaN</td>\n",
       "      <td>NaN</td>\n",
       "      <td>Shed</td>\n",
       "      <td>500</td>\n",
       "      <td>10</td>\n",
       "      <td>2006</td>\n",
       "      <td>WD</td>\n",
       "      <td>Normal</td>\n",
       "      <td>90000</td>\n",
       "    </tr>\n",
       "    <tr>\n",
       "      <th>19</th>\n",
       "      <td>20</td>\n",
       "      <td>RL</td>\n",
       "      <td>66.0</td>\n",
       "      <td>13695</td>\n",
       "      <td>Pave</td>\n",
       "      <td>NaN</td>\n",
       "      <td>Reg</td>\n",
       "      <td>Lvl</td>\n",
       "      <td>AllPub</td>\n",
       "      <td>Inside</td>\n",
       "      <td>...</td>\n",
       "      <td>0</td>\n",
       "      <td>NaN</td>\n",
       "      <td>NaN</td>\n",
       "      <td>NaN</td>\n",
       "      <td>0</td>\n",
       "      <td>6</td>\n",
       "      <td>2008</td>\n",
       "      <td>WD</td>\n",
       "      <td>Normal</td>\n",
       "      <td>159000</td>\n",
       "    </tr>\n",
       "    <tr>\n",
       "      <th>20</th>\n",
       "      <td>20</td>\n",
       "      <td>RL</td>\n",
       "      <td>70.0</td>\n",
       "      <td>7560</td>\n",
       "      <td>Pave</td>\n",
       "      <td>NaN</td>\n",
       "      <td>Reg</td>\n",
       "      <td>Lvl</td>\n",
       "      <td>AllPub</td>\n",
       "      <td>Inside</td>\n",
       "      <td>...</td>\n",
       "      <td>0</td>\n",
       "      <td>NaN</td>\n",
       "      <td>MnPrv</td>\n",
       "      <td>NaN</td>\n",
       "      <td>0</td>\n",
       "      <td>5</td>\n",
       "      <td>2009</td>\n",
       "      <td>COD</td>\n",
       "      <td>Abnorml</td>\n",
       "      <td>139000</td>\n",
       "    </tr>\n",
       "  </tbody>\n",
       "</table>\n",
       "<p>20 rows × 80 columns</p>\n",
       "</div>"
      ],
      "text/plain": [
       "    MSSubClass MSZoning  LotFrontage  LotArea Street Alley LotShape  \\\n",
       "Id                                                                    \n",
       "1           60       RL         65.0     8450   Pave   NaN      Reg   \n",
       "2           20       RL         80.0     9600   Pave   NaN      Reg   \n",
       "3           60       RL         68.0    11250   Pave   NaN      IR1   \n",
       "4           70       RL         60.0     9550   Pave   NaN      IR1   \n",
       "5           60       RL         84.0    14260   Pave   NaN      IR1   \n",
       "6           50       RL         85.0    14115   Pave   NaN      IR1   \n",
       "7           20       RL         75.0    10084   Pave   NaN      Reg   \n",
       "8           60       RL          NaN    10382   Pave   NaN      IR1   \n",
       "9           50       RM         51.0     6120   Pave   NaN      Reg   \n",
       "10         190       RL         50.0     7420   Pave   NaN      Reg   \n",
       "11          20       RL         70.0    11200   Pave   NaN      Reg   \n",
       "12          60       RL         85.0    11924   Pave   NaN      IR1   \n",
       "13          20       RL          NaN    12968   Pave   NaN      IR2   \n",
       "14          20       RL         91.0    10652   Pave   NaN      IR1   \n",
       "15          20       RL          NaN    10920   Pave   NaN      IR1   \n",
       "16          45       RM         51.0     6120   Pave   NaN      Reg   \n",
       "17          20       RL          NaN    11241   Pave   NaN      IR1   \n",
       "18          90       RL         72.0    10791   Pave   NaN      Reg   \n",
       "19          20       RL         66.0    13695   Pave   NaN      Reg   \n",
       "20          20       RL         70.0     7560   Pave   NaN      Reg   \n",
       "\n",
       "   LandContour Utilities LotConfig  ... PoolArea PoolQC  Fence MiscFeature  \\\n",
       "Id                                  ...                                      \n",
       "1          Lvl    AllPub    Inside  ...        0    NaN    NaN         NaN   \n",
       "2          Lvl    AllPub       FR2  ...        0    NaN    NaN         NaN   \n",
       "3          Lvl    AllPub    Inside  ...        0    NaN    NaN         NaN   \n",
       "4          Lvl    AllPub    Corner  ...        0    NaN    NaN         NaN   \n",
       "5          Lvl    AllPub       FR2  ...        0    NaN    NaN         NaN   \n",
       "6          Lvl    AllPub    Inside  ...        0    NaN  MnPrv        Shed   \n",
       "7          Lvl    AllPub    Inside  ...        0    NaN    NaN         NaN   \n",
       "8          Lvl    AllPub    Corner  ...        0    NaN    NaN        Shed   \n",
       "9          Lvl    AllPub    Inside  ...        0    NaN    NaN         NaN   \n",
       "10         Lvl    AllPub    Corner  ...        0    NaN    NaN         NaN   \n",
       "11         Lvl    AllPub    Inside  ...        0    NaN    NaN         NaN   \n",
       "12         Lvl    AllPub    Inside  ...        0    NaN    NaN         NaN   \n",
       "13         Lvl    AllPub    Inside  ...        0    NaN    NaN         NaN   \n",
       "14         Lvl    AllPub    Inside  ...        0    NaN    NaN         NaN   \n",
       "15         Lvl    AllPub    Corner  ...        0    NaN   GdWo         NaN   \n",
       "16         Lvl    AllPub    Corner  ...        0    NaN  GdPrv         NaN   \n",
       "17         Lvl    AllPub   CulDSac  ...        0    NaN    NaN        Shed   \n",
       "18         Lvl    AllPub    Inside  ...        0    NaN    NaN        Shed   \n",
       "19         Lvl    AllPub    Inside  ...        0    NaN    NaN         NaN   \n",
       "20         Lvl    AllPub    Inside  ...        0    NaN  MnPrv         NaN   \n",
       "\n",
       "   MiscVal MoSold  YrSold  SaleType  SaleCondition  SalePrice  \n",
       "Id                                                             \n",
       "1        0      2    2008        WD         Normal     208500  \n",
       "2        0      5    2007        WD         Normal     181500  \n",
       "3        0      9    2008        WD         Normal     223500  \n",
       "4        0      2    2006        WD        Abnorml     140000  \n",
       "5        0     12    2008        WD         Normal     250000  \n",
       "6      700     10    2009        WD         Normal     143000  \n",
       "7        0      8    2007        WD         Normal     307000  \n",
       "8      350     11    2009        WD         Normal     200000  \n",
       "9        0      4    2008        WD        Abnorml     129900  \n",
       "10       0      1    2008        WD         Normal     118000  \n",
       "11       0      2    2008        WD         Normal     129500  \n",
       "12       0      7    2006       New        Partial     345000  \n",
       "13       0      9    2008        WD         Normal     144000  \n",
       "14       0      8    2007       New        Partial     279500  \n",
       "15       0      5    2008        WD         Normal     157000  \n",
       "16       0      7    2007        WD         Normal     132000  \n",
       "17     700      3    2010        WD         Normal     149000  \n",
       "18     500     10    2006        WD         Normal      90000  \n",
       "19       0      6    2008        WD         Normal     159000  \n",
       "20       0      5    2009       COD        Abnorml     139000  \n",
       "\n",
       "[20 rows x 80 columns]"
      ]
     },
     "execution_count": 125,
     "metadata": {},
     "output_type": "execute_result"
    }
   ],
   "source": [
    "training_set.head(20)"
   ]
  },
  {
   "cell_type": "code",
   "execution_count": 126,
   "id": "a358cfd7",
   "metadata": {
    "execution": {
     "iopub.execute_input": "2021-10-21T05:44:33.745926Z",
     "iopub.status.busy": "2021-10-21T05:44:33.744747Z",
     "iopub.status.idle": "2021-10-21T05:44:33.752645Z",
     "shell.execute_reply": "2021-10-21T05:44:33.753289Z",
     "shell.execute_reply.started": "2021-10-21T05:42:14.944966Z"
    },
    "papermill": {
     "duration": 0.04444,
     "end_time": "2021-10-21T05:44:33.753471",
     "exception": false,
     "start_time": "2021-10-21T05:44:33.709031",
     "status": "completed"
    },
    "tags": []
   },
   "outputs": [
    {
     "name": "stdout",
     "output_type": "stream",
     "text": [
      "MSSubClass          0\n",
      "MSZoning            0\n",
      "LotFrontage       259\n",
      "LotArea             0\n",
      "Street              0\n",
      "Alley            1369\n",
      "LotShape            0\n",
      "LandContour         0\n",
      "Utilities           0\n",
      "LotConfig           0\n",
      "LandSlope           0\n",
      "Neighborhood        0\n",
      "Condition1          0\n",
      "Condition2          0\n",
      "BldgType            0\n",
      "HouseStyle          0\n",
      "OverallQual         0\n",
      "OverallCond         0\n",
      "YearBuilt           0\n",
      "YearRemodAdd        0\n",
      "RoofStyle           0\n",
      "RoofMatl            0\n",
      "Exterior1st         0\n",
      "Exterior2nd         0\n",
      "MasVnrType          8\n",
      "MasVnrArea          8\n",
      "ExterQual           0\n",
      "ExterCond           0\n",
      "Foundation          0\n",
      "BsmtQual           37\n",
      "BsmtCond           37\n",
      "BsmtExposure       38\n",
      "BsmtFinType1       37\n",
      "BsmtFinSF1          0\n",
      "BsmtFinType2       38\n",
      "BsmtFinSF2          0\n",
      "BsmtUnfSF           0\n",
      "TotalBsmtSF         0\n",
      "Heating             0\n",
      "HeatingQC           0\n",
      "CentralAir          0\n",
      "Electrical          1\n",
      "1stFlrSF            0\n",
      "2ndFlrSF            0\n",
      "LowQualFinSF        0\n",
      "GrLivArea           0\n",
      "BsmtFullBath        0\n",
      "BsmtHalfBath        0\n",
      "FullBath            0\n",
      "HalfBath            0\n",
      "BedroomAbvGr        0\n",
      "KitchenAbvGr        0\n",
      "KitchenQual         0\n",
      "TotRmsAbvGrd        0\n",
      "Functional          0\n",
      "Fireplaces          0\n",
      "FireplaceQu       690\n",
      "GarageType         81\n",
      "GarageYrBlt        81\n",
      "GarageFinish       81\n",
      "GarageCars          0\n",
      "GarageArea          0\n",
      "GarageQual         81\n",
      "GarageCond         81\n",
      "PavedDrive          0\n",
      "WoodDeckSF          0\n",
      "OpenPorchSF         0\n",
      "EnclosedPorch       0\n",
      "3SsnPorch           0\n",
      "ScreenPorch         0\n",
      "PoolArea            0\n",
      "PoolQC           1453\n",
      "Fence            1179\n",
      "MiscFeature      1406\n",
      "MiscVal             0\n",
      "MoSold              0\n",
      "YrSold              0\n",
      "SaleType            0\n",
      "SaleCondition       0\n",
      "SalePrice           0\n",
      "dtype: int64\n"
     ]
    }
   ],
   "source": [
    "with pd.option_context('display.max_rows', 100):\n",
    "    print(training_set.isna().sum())"
   ]
  },
  {
   "cell_type": "code",
   "execution_count": 127,
   "id": "8685d2f2",
   "metadata": {
    "execution": {
     "iopub.execute_input": "2021-10-21T05:44:33.807277Z",
     "iopub.status.busy": "2021-10-21T05:44:33.806289Z",
     "iopub.status.idle": "2021-10-21T05:44:33.812292Z",
     "shell.execute_reply": "2021-10-21T05:44:33.812870Z",
     "shell.execute_reply.started": "2021-10-20T21:45:42.202299Z"
    },
    "papermill": {
     "duration": 0.034654,
     "end_time": "2021-10-21T05:44:33.813052",
     "exception": false,
     "start_time": "2021-10-21T05:44:33.778398",
     "status": "completed"
    },
    "tags": []
   },
   "outputs": [
    {
     "name": "stdout",
     "output_type": "stream",
     "text": [
      "[dtype('int64') dtype('O') dtype('float64')]\n"
     ]
    }
   ],
   "source": [
    "#display datatypes \n",
    "print(training_set.dtypes.unique())"
   ]
  },
  {
   "cell_type": "code",
   "execution_count": 128,
   "id": "da0cf791",
   "metadata": {
    "execution": {
     "iopub.execute_input": "2021-10-21T05:44:33.867100Z",
     "iopub.status.busy": "2021-10-21T05:44:33.866114Z",
     "iopub.status.idle": "2021-10-21T05:44:33.875204Z",
     "shell.execute_reply": "2021-10-21T05:44:33.875742Z",
     "shell.execute_reply.started": "2021-10-20T21:45:57.137575Z"
    },
    "papermill": {
     "duration": 0.037749,
     "end_time": "2021-10-21T05:44:33.875911",
     "exception": false,
     "start_time": "2021-10-21T05:44:33.838162",
     "status": "completed"
    },
    "tags": []
   },
   "outputs": [
    {
     "data": {
      "text/plain": [
       "Index(['MSZoning', 'Street', 'Alley', 'LotShape', 'LandContour', 'Utilities',\n",
       "       'LotConfig', 'LandSlope', 'Neighborhood', 'Condition1', 'Condition2',\n",
       "       'BldgType', 'HouseStyle', 'RoofStyle', 'RoofMatl', 'Exterior1st',\n",
       "       'Exterior2nd', 'MasVnrType', 'ExterQual', 'ExterCond', 'Foundation',\n",
       "       'BsmtQual', 'BsmtCond', 'BsmtExposure', 'BsmtFinType1', 'BsmtFinType2',\n",
       "       'Heating', 'HeatingQC', 'CentralAir', 'Electrical', 'KitchenQual',\n",
       "       'Functional', 'FireplaceQu', 'GarageType', 'GarageFinish', 'GarageQual',\n",
       "       'GarageCond', 'PavedDrive', 'PoolQC', 'Fence', 'MiscFeature',\n",
       "       'SaleType', 'SaleCondition'],\n",
       "      dtype='object')"
      ]
     },
     "metadata": {},
     "output_type": "display_data"
    }
   ],
   "source": [
    "#group the objects together\n",
    "objects = training_set.loc[:,training_set.dtypes == object]\n",
    "display(objects.columns)"
   ]
  },
  {
   "cell_type": "code",
   "execution_count": 129,
   "id": "883bc40c",
   "metadata": {
    "execution": {
     "iopub.execute_input": "2021-10-21T05:44:33.931039Z",
     "iopub.status.busy": "2021-10-21T05:44:33.930083Z",
     "iopub.status.idle": "2021-10-21T05:44:33.942544Z",
     "shell.execute_reply": "2021-10-21T05:44:33.941999Z",
     "shell.execute_reply.started": "2021-10-20T21:46:09.618297Z"
    },
    "papermill": {
     "duration": 0.041287,
     "end_time": "2021-10-21T05:44:33.942683",
     "exception": false,
     "start_time": "2021-10-21T05:44:33.901396",
     "status": "completed"
    },
    "tags": []
   },
   "outputs": [
    {
     "name": "stdout",
     "output_type": "stream",
     "text": [
      "Neighborhood\n",
      "NoRidge    335295.317073\n",
      "NridgHt    316270.623377\n",
      "StoneBr    310499.000000\n",
      "Timber     242247.447368\n",
      "Veenker    238772.727273\n",
      "Somerst    225379.837209\n",
      "ClearCr    212565.428571\n",
      "Crawfor    210624.725490\n",
      "CollgCr    197965.773333\n",
      "Blmngtn    194870.882353\n",
      "Gilbert    192854.506329\n",
      "NWAmes     189050.068493\n",
      "SawyerW    186555.796610\n",
      "Mitchel    156270.122449\n",
      "NAmes      145847.080000\n",
      "NPkVill    142694.444444\n",
      "SWISU      142591.360000\n",
      "Blueste    137500.000000\n",
      "Sawyer     136793.135135\n",
      "OldTown    128225.300885\n",
      "Edwards    128219.700000\n",
      "BrkSide    124834.051724\n",
      "BrDale     104493.750000\n",
      "IDOTRR     100123.783784\n",
      "MeadowV     98576.470588\n",
      "Name: SalePrice, dtype: float64\n"
     ]
    }
   ],
   "source": [
    "#view the mean sale price per neighborhood\n",
    "print(training_set.groupby('Neighborhood').SalePrice.mean().sort_values(ascending = False))"
   ]
  },
  {
   "cell_type": "code",
   "execution_count": 130,
   "id": "5b41963d",
   "metadata": {
    "execution": {
     "iopub.execute_input": "2021-10-21T05:44:34.004489Z",
     "iopub.status.busy": "2021-10-21T05:44:34.003770Z",
     "iopub.status.idle": "2021-10-21T05:44:34.882848Z",
     "shell.execute_reply": "2021-10-21T05:44:34.883357Z",
     "shell.execute_reply.started": "2021-10-20T21:46:24.312783Z"
    },
    "papermill": {
     "duration": 0.913294,
     "end_time": "2021-10-21T05:44:34.883543",
     "exception": false,
     "start_time": "2021-10-21T05:44:33.970249",
     "status": "completed"
    },
    "tags": []
   },
   "outputs": [
    {
     "data": {
      "image/png": "[encoded data removed]",
      "text/plain": [
       "<Figure size 576x864 with 2 Axes>"
      ]
     },
     "metadata": {
      "needs_background": "light"
     },
     "output_type": "display_data"
    }
   ],
   "source": [
    "#create a feature correlation plot to show how each feature correlates to our target\n",
    "plt.figure(figsize=(8, 12))\n",
    "heatmap = sns.heatmap(training_set.corr()[['SalePrice']].sort_values(by='SalePrice', ascending=False), vmin=-1, vmax=1, annot=True, cmap='rocket')\n",
    "\n",
    "heatmap.set_title('Features Correlating with Sales Price', fontdict={'fontsize':18}, pad=16);"
   ]
  },
  {
   "cell_type": "code",
   "execution_count": 131,
   "id": "a9948d8d",
   "metadata": {
    "execution": {
     "iopub.execute_input": "2021-10-21T05:44:34.943912Z",
     "iopub.status.busy": "2021-10-21T05:44:34.942982Z",
     "iopub.status.idle": "2021-10-21T05:44:36.009893Z",
     "shell.execute_reply": "2021-10-21T05:44:36.010424Z",
     "shell.execute_reply.started": "2021-10-20T21:53:34.219143Z"
    },
    "papermill": {
     "duration": 1.098738,
     "end_time": "2021-10-21T05:44:36.010609",
     "exception": false,
     "start_time": "2021-10-21T05:44:34.911871",
     "status": "completed"
    },
    "tags": []
   },
   "outputs": [
    {
     "data": {
      "application/vnd.plotly.v1+json": {
       "config": {
        "plotlyServerURL": "https://plot.ly"
       },
       "data": [
        {
         "coloraxis": "coloraxis",
         "hovertemplate": "x: %{x}<br>y: %{y}<br>color: %{z}<extra></extra>",
         "name": "0",
         "type": "heatmap",
         "x": [
          "MSSubClass",
          "LotFrontage",
          "LotArea",
          "OverallQual",
          "OverallCond",
          "YearBuilt",
          "YearRemodAdd",
          "MasVnrArea",
          "BsmtFinSF1",
          "BsmtFinSF2",
          "BsmtUnfSF",
          "TotalBsmtSF",
          "1stFlrSF",
          "2ndFlrSF",
          "LowQualFinSF",
          "GrLivArea",
          "BsmtFullBath",
          "BsmtHalfBath",
          "FullBath",
          "HalfBath",
          "BedroomAbvGr",
          "KitchenAbvGr",
          "TotRmsAbvGrd",
          "Fireplaces",
          "GarageYrBlt",
          "GarageCars",
          "GarageArea",
          "WoodDeckSF",
          "OpenPorchSF",
          "EnclosedPorch",
          "3SsnPorch",
          "ScreenPorch",
          "PoolArea",
          "MiscVal",
          "MoSold",
          "YrSold",
          "SalePrice"
         ],
         "xaxis": "x",
         "y": [
          "MSSubClass",
          "LotFrontage",
          "LotArea",
          "OverallQual",
          "OverallCond",
          "YearBuilt",
          "YearRemodAdd",
          "MasVnrArea",
          "BsmtFinSF1",
          "BsmtFinSF2",
          "BsmtUnfSF",
          "TotalBsmtSF",
          "1stFlrSF",
          "2ndFlrSF",
          "LowQualFinSF",
          "GrLivArea",
          "BsmtFullBath",
          "BsmtHalfBath",
          "FullBath",
          "HalfBath",
          "BedroomAbvGr",
          "KitchenAbvGr",
          "TotRmsAbvGrd",
          "Fireplaces",
          "GarageYrBlt",
          "GarageCars",
          "GarageArea",
          "WoodDeckSF",
          "OpenPorchSF",
          "EnclosedPorch",
          "3SsnPorch",
          "ScreenPorch",
          "PoolArea",
          "MiscVal",
          "MoSold",
          "YrSold",
          "SalePrice"
         ],
         "yaxis": "y",
         "z": [
          [
           1,
           -0.3863468853449291,
           -0.13978108172014597,
           0.032627707521842034,
           -0.059315817084104695,
           0.027850136946705798,
           0.04058104478406425,
           0.022936285894197328,
           -0.06983574916710049,
           -0.06564857918852389,
           -0.14075948083501172,
           -0.23851840931511895,
           -0.25175835187837925,
           0.30788572075985926,
           0.046473755899517154,
           0.0748531796577994,
           0.003491025779044692,
           -0.0023325345518022773,
           0.13160822241028108,
           0.17735438864391687,
           -0.02343802846062706,
           0.2817210402648814,
           0.04038006478367613,
           -0.04556934027456939,
           0.08507186950664718,
           -0.040109793135783604,
           -0.09867154319256435,
           -0.012579358249219592,
           -0.006100121231942238,
           -0.012036621902094771,
           -0.04382454917560846,
           -0.026030176699806666,
           0.008282707579624416,
           -0.007683291329865976,
           -0.013584643238322348,
           -0.02140703785109821,
           -0.08428413512659509
          ],
          [
           -0.3863468853449291,
           1,
           0.4260950187718081,
           0.2516457754806124,
           -0.059213450005246894,
           0.12334946703331619,
           0.08886557249206646,
           0.19345806055826867,
           0.233633167019755,
           0.0498996766909894,
           0.13264374162493364,
           0.3920745763791721,
           0.45718100199465517,
           0.08017727062420475,
           0.038468534328959476,
           0.40279741408531955,
           0.10094856694926875,
           -0.007234304524918128,
           0.19876867789737823,
           0.05353185497960593,
           0.263169915881059,
           -0.0060688301613090875,
           0.3520959476602243,
           0.26663948256030306,
           0.0702497819166165,
           0.2856909246851005,
           0.3449967241064819,
           0.0885209332894081,
           0.15197222768060642,
           0.01070033663888244,
           0.07002922773085365,
           0.04138279067500582,
           0.2061667752760768,
           0.003367556596191435,
           0.011199954759134238,
           0.007449589209750463,
           0.35179909657067737
          ],
          [
           -0.13978108172014597,
           0.4260950187718081,
           1,
           0.10580574175496422,
           -0.005636270274099278,
           0.014227651757025093,
           0.013788427078155424,
           0.10415982154021264,
           0.21410313070557713,
           0.11116974549624871,
           -0.00261835995009543,
           0.2608331345451572,
           0.29947457850776266,
           0.05098594829349377,
           0.004778969866349555,
           0.26311616716714803,
           0.15815453106001476,
           0.04804557088829686,
           0.1260306265196436,
           0.014259468566431947,
           0.11968990815131542,
           -0.017783870504841995,
           0.190014777625409,
           0.2713640096245418,
           -0.02494741866564254,
           0.15487073975354076,
           0.1804027551511169,
           0.17169768725711246,
           0.08477380884021642,
           -0.018339733672212328,
           0.020422829586133416,
           0.04316037769525204,
           0.07767239188017444,
           0.03806769201918336,
           0.0012049882225877268,
           -0.01426140729855021,
           0.2638433538714051
          ],
          [
           0.032627707521842034,
           0.2516457754806124,
           0.10580574175496422,
           1,
           -0.09193234263907182,
           0.5723227689623621,
           0.5506839241941717,
           0.4118756672776833,
           0.23966596617889105,
           -0.05911869267068986,
           0.30815892690564284,
           0.5378084986123907,
           0.4762238290781779,
           0.29549287919970985,
           -0.030429283979605037,
           0.5930074300286512,
           0.11109778614230235,
           -0.04015015766998829,
           0.5505997093682543,
           0.2734580986427702,
           0.1016763562417855,
           -0.18388223454922156,
           0.42745234327798975,
           0.39676503795208906,
           0.5477658448351629,
           0.6006707165907149,
           0.5620217566126083,
           0.23892339224918593,
           0.3088188233594523,
           -0.11393685859568162,
           0.03037056713526452,
           0.06488636049351544,
           0.06516584360589199,
           -0.031406210500746504,
           0.07081517178517327,
           -0.027346708327825386,
           0.7909816005838053
          ],
          [
           -0.059315817084104695,
           -0.059213450005246894,
           -0.005636270274099278,
           -0.09193234263907182,
           1,
           -0.37598319560698945,
           0.07374149814528905,
           -0.1281011991656896,
           -0.04623085591822496,
           0.040229169899767575,
           -0.13684056989352233,
           -0.1710975146249218,
           -0.1442027840490591,
           0.028942115965816882,
           0.025494319914213383,
           -0.07968586538833815,
           -0.05494151543295185,
           0.11782091508139253,
           -0.1941494887493024,
           -0.06076932676159483,
           0.012980060094550628,
           -0.08700085543638039,
           -0.057583166112865375,
           -0.02381997776166212,
           -0.32429673252939795,
           -0.18575751057836357,
           -0.15152137057022985,
           -0.0033336992893856225,
           -0.03258881352158505,
           0.07035618448230374,
           0.025503660024132138,
           0.05481052878611526,
           -0.0019849422681841354,
           0.0687768060572499,
           -0.003510838599939743,
           0.043949745692488544,
           -0.07785589404867797
          ],
          [
           0.027850136946705798,
           0.12334946703331619,
           0.014227651757025093,
           0.5723227689623621,
           -0.37598319560698945,
           1,
           0.5928549763436519,
           0.3157070624361963,
           0.24950319668479728,
           -0.049106831196239174,
           0.14904039195440058,
           0.3914520020660952,
           0.2819858586998021,
           0.010307659584364078,
           -0.18378434437372046,
           0.19900971367645826,
           0.1875985499971434,
           -0.03816180567123349,
           0.4682707871726737,
           0.2426559102410641,
           -0.07065121690473103,
           -0.17480024561497706,
           0.09558912829795185,
           0.14771639941245646,
           0.8256674841743408,
           0.5378500917111052,
           0.4789538198934904,
           0.22488014230399744,
           0.188685840001731,
           -0.3872677829280785,
           0.03135451306436603,
           -0.05036443453861205,
           0.004949727615942999,
           -0.03438313873672287,
           0.012398470595440986,
           -0.01361768000183213,
           0.5228973328794967
          ],
          [
           0.04058104478406425,
           0.08886557249206646,
           0.013788427078155424,
           0.5506839241941717,
           0.07374149814528905,
           0.5928549763436519,
           1,
           0.17961837073552223,
           0.12845054712828866,
           -0.06775851356598699,
           0.18113308705016903,
           0.2910655826041661,
           0.24037926760355463,
           0.14002377880486447,
           -0.06241910007833181,
           0.2873885196503327,
           0.11946987911123993,
           -0.012337032127797673,
           0.4390464838723479,
           0.1833306117185349,
           -0.040580928067749454,
           -0.14959752104274646,
           0.1917398162928069,
           0.11258131843947561,
           0.6422767797035356,
           0.42062215494321714,
           0.3715998094973092,
           0.20572592049010355,
           0.22629763268298944,
           -0.1939191470992078,
           0.045285809814976964,
           -0.038740010742610125,
           0.005829372037106204,
           -0.010286248783081431,
           0.02149000222687611,
           0.03574324712127364,
           0.5071009671113866
          ],
          [
           0.022936285894197328,
           0.19345806055826867,
           0.10415982154021264,
           0.4118756672776833,
           -0.1281011991656896,
           0.3157070624361963,
           0.17961837073552223,
           1,
           0.2647362647138685,
           -0.0723188482033582,
           0.11444206231380821,
           0.3639362217744723,
           0.3445007468899248,
           0.1745614734574279,
           -0.06907085606589286,
           0.39085663973843854,
           0.08530982868972814,
           0.026672828155103145,
           0.27683284723698837,
           0.20144394692967832,
           0.10282115127801787,
           -0.03761025181986861,
           0.2806816946085068,
           0.24906961283714313,
           0.2526907749903342,
           0.3642036400698656,
           0.37306648160023664,
           0.15971813436595433,
           0.1257027966825031,
           -0.11020383387243517,
           0.018795515294914033,
           0.06146554318732188,
           0.01172306121326672,
           -0.02981539358527878,
           -0.005964715509114298,
           -0.008201030967080006,
           0.47749304709571444
          ],
          [
           -0.06983574916710049,
           0.233633167019755,
           0.21410313070557713,
           0.23966596617889105,
           -0.04623085591822496,
           0.24950319668479728,
           0.12845054712828866,
           0.2647362647138685,
           1,
           -0.0501174000471511,
           -0.49525146925701125,
           0.5223960519923867,
           0.4458626560920054,
           -0.13707898608005356,
           -0.06450259692146844,
           0.20817113014532704,
           0.6492117535742649,
           0.06741847791011696,
           0.058543136861595194,
           0.004262424384486936,
           -0.10735467682307034,
           -0.08100685077857439,
           0.044315623912920654,
           0.2600109202350403,
           0.1534840980267781,
           0.22405352239399068,
           0.2969703853445138,
           0.20430614523740265,
           0.11176061335675101,
           -0.10230330550073197,
           0.026450506189898953,
           0.06202062266534991,
           0.1404912862549568,
           0.003571473474954695,
           -0.015726948262154667,
           0.014358922393909302,
           0.3864198062421535
          ],
          [
           -0.06564857918852389,
           0.0498996766909894,
           0.11116974549624871,
           -0.05911869267068986,
           0.040229169899767575,
           -0.049106831196239174,
           -0.06775851356598699,
           -0.0723188482033582,
           -0.0501174000471511,
           1,
           -0.20929449241994497,
           0.10480953760636813,
           0.0971174484566702,
           -0.09926031602264425,
           0.01480699794683367,
           -0.009639891551805443,
           0.15867806078170135,
           0.07094813365590413,
           -0.07644386196518269,
           -0.032147837468965886,
           -0.015728113626581035,
           -0.04075123644840764,
           -0.03522654794752336,
           0.04692070882601213,
           -0.08801081541220088,
           -0.038263512869251545,
           -0.018226591907316552,
           0.06789832641361218,
           0.003092562209894399,
           0.036543339448210164,
           -0.029993397993921023,
           0.08887125137339073,
           0.041709054681333575,
           0.004939781228437705,
           -0.015210737972006668,
           0.03170563698487945,
           -0.011378121450215146
          ],
          [
           -0.14075948083501172,
           0.13264374162493364,
           -0.00261835995009543,
           0.30815892690564284,
           -0.13684056989352233,
           0.14904039195440058,
           0.18113308705016903,
           0.11444206231380821,
           -0.49525146925701125,
           -0.20929449241994497,
           1,
           0.4153596051815893,
           0.3179874383527259,
           0.004469092144542392,
           0.028166688132741206,
           0.240257268349935,
           -0.42290047738321335,
           -0.09580428815248283,
           0.2888860554869108,
           -0.04111753014455172,
           0.16664331698696289,
           0.030085868314000126,
           0.25064706137624926,
           0.0515748822895418,
           0.19070827345893257,
           0.2141751897502169,
           0.18330269774258412,
           -0.005316424333062066,
           0.12900541461542128,
           -0.002537854589751547,
           0.02076400569654798,
           -0.012579273444256824,
           -0.035092240793657914,
           -0.023836645134507763,
           0.03488844300908206,
           -0.04125819493876721,
           0.21447910554696928
          ],
          [
           -0.23851840931511895,
           0.3920745763791721,
           0.2608331345451572,
           0.5378084986123907,
           -0.1710975146249218,
           0.3914520020660952,
           0.2910655826041661,
           0.3639362217744723,
           0.5223960519923867,
           0.10480953760636813,
           0.4153596051815893,
           1,
           0.8195299750050339,
           -0.17451195013496046,
           -0.0332453873474563,
           0.45486820254790317,
           0.30735055373550346,
           -0.00031458181983374725,
           0.3237224136066502,
           -0.04880373863521248,
           0.05044995551267818,
           -0.06890064264201659,
           0.28557256372579454,
           0.33951932389865597,
           0.3224451736794739,
           0.43458483429168865,
           0.4866654637737961,
           0.23201860912901803,
           0.2472637462881078,
           -0.09547773670640776,
           0.03738372726300508,
           0.08448898591431157,
           0.12605313210083768,
           -0.018478922431472124,
           0.013196178616778433,
           -0.014968648018762356,
           0.6135805515591943
          ],
          [
           -0.25175835187837925,
           0.45718100199465517,
           0.29947457850776266,
           0.4762238290781779,
           -0.1442027840490591,
           0.2819858586998021,
           0.24037926760355463,
           0.3445007468899248,
           0.4458626560920054,
           0.0971174484566702,
           0.3179874383527259,
           0.8195299750050339,
           1,
           -0.20264618100232087,
           -0.014240672666431285,
           0.5660239689357486,
           0.24467110424771052,
           0.001955653582048656,
           0.3806374949735071,
           -0.11991590879396136,
           0.12740074939236454,
           0.06810058817691335,
           0.40951597886683183,
           0.41053108465984556,
           0.23344909271486267,
           0.4393168079906709,
           0.4897816541041918,
           0.23545862278369778,
           0.2116712254979847,
           -0.0652917009103091,
           0.05610437448487508,
           0.08875807262015682,
           0.13152497564028254,
           -0.021095719463122223,
           0.03137156035207926,
           -0.01360377050464661,
           0.6058521846919153
          ],
          [
           0.30788572075985926,
           0.08017727062420475,
           0.05098594829349377,
           0.29549287919970985,
           0.028942115965816882,
           0.010307659584364078,
           0.14002377880486447,
           0.1745614734574279,
           -0.13707898608005356,
           -0.09926031602264425,
           0.004469092144542392,
           -0.17451195013496046,
           -0.20264618100232087,
           1,
           0.06335295010932271,
           0.6875010641666033,
           -0.16949395173099896,
           -0.023854783937045255,
           0.4213779828759713,
           0.6097073002717436,
           0.5029006133459056,
           0.05930575264821624,
           0.6164226354915431,
           0.19456089224132392,
           0.0708323397173792,
           0.18392558307638002,
           0.13834695857186657,
           0.09216541758603868,
           0.2080260631813579,
           0.06198869077325203,
           -0.02435764842204794,
           0.040606447641001006,
           0.08148687804909954,
           0.016196874604388505,
           0.035164427361791005,
           -0.02869991393529755,
           0.31933380283206736
          ],
          [
           0.046473755899517154,
           0.038468534328959476,
           0.004778969866349555,
           -0.030429283979605037,
           0.025494319914213383,
           -0.18378434437372046,
           -0.06241910007833181,
           -0.06907085606589286,
           -0.06450259692146844,
           0.01480699794683367,
           0.028166688132741206,
           -0.0332453873474563,
           -0.014240672666431285,
           0.06335295010932271,
           1,
           0.13468281300660076,
           -0.047143421898259166,
           -0.005841504819311643,
           -0.0007095096206731084,
           -0.02708004931716945,
           0.10560656854090526,
           0.007521744344233734,
           0.13118477598954745,
           -0.02127214341393874,
           -0.03636323404234127,
           -0.09447952015593257,
           -0.06760141323952208,
           -0.025443647988791077,
           0.018251039053999052,
           0.06108123777122687,
           -0.004295610410300094,
           0.02679941302177244,
           0.06215737226918922,
           -0.003792870779996453,
           -0.02217396057953783,
           -0.028920879782296086,
           -0.02560613000067955
          ],
          [
           0.0748531796577994,
           0.40279741408531955,
           0.26311616716714803,
           0.5930074300286512,
           -0.07968586538833815,
           0.19900971367645826,
           0.2873885196503327,
           0.39085663973843854,
           0.20817113014532704,
           -0.009639891551805443,
           0.240257268349935,
           0.45486820254790317,
           0.5660239689357486,
           0.6875010641666033,
           0.13468281300660076,
           1,
           0.03483604954490554,
           -0.0189184831706347,
           0.6300116462511148,
           0.4157716361052652,
           0.5212695109189948,
           0.10006316473775474,
           0.8254893743088425,
           0.46167913376144704,
           0.23119674063336224,
           0.4672474187951873,
           0.4689974773229655,
           0.24743282051884846,
           0.33022396171200064,
           0.009113210326003087,
           0.020643189710186576,
           0.10151039568208567,
           0.1702053360005616,
           -0.0024156395502935623,
           0.05023968081827284,
           -0.03652581962473121,
           0.7086244776126515
          ],
          [
           0.003491025779044692,
           0.10094856694926875,
           0.15815453106001476,
           0.11109778614230235,
           -0.05494151543295185,
           0.1875985499971434,
           0.11946987911123993,
           0.08530982868972814,
           0.6492117535742649,
           0.15867806078170135,
           -0.42290047738321335,
           0.30735055373550346,
           0.24467110424771052,
           -0.16949395173099896,
           -0.047143421898259166,
           0.03483604954490554,
           1,
           -0.14787096054760138,
           -0.06451204863131507,
           -0.030904959142533293,
           -0.15067280920795623,
           -0.041502546431482885,
           -0.0532752361233972,
           0.1379277084271981,
           0.12455252442364974,
           0.13188122440619438,
           0.179189480420231,
           0.17531519007972224,
           0.06734146137698176,
           -0.049910649083753186,
           -0.00010609153998400853,
           0.023147725763573802,
           0.06761555618047507,
           -0.02304702486861695,
           -0.025360894315259907,
           0.06704913767140361,
           0.22712223313149427
          ],
          [
           -0.0023325345518022773,
           -0.007234304524918128,
           0.04804557088829686,
           -0.04015015766998829,
           0.11782091508139253,
           -0.03816180567123349,
           -0.012337032127797673,
           0.026672828155103145,
           0.06741847791011696,
           0.07094813365590413,
           -0.09580428815248283,
           -0.00031458181983374725,
           0.001955653582048656,
           -0.023854783937045255,
           -0.005841504819311643,
           -0.0189184831706347,
           -0.14787096054760138,
           1,
           -0.054535811983635524,
           -0.012339900052275487,
           0.046518848389950684,
           -0.03794435022720086,
           -0.023836341262220544,
           0.028975586646259963,
           -0.07746361238070294,
           -0.02089105899687853,
           -0.02453557957887923,
           0.04016122325953452,
           -0.02532375788905772,
           -0.008555333868578032,
           0.035113630886772336,
           0.03212140720908338,
           0.02002462983851695,
           -0.007366524543625446,
           0.03287270523409066,
           -0.04652388177400862,
           -0.01684415429735895
          ],
          [
           0.13160822241028108,
           0.19876867789737823,
           0.1260306265196436,
           0.5505997093682543,
           -0.1941494887493024,
           0.4682707871726737,
           0.4390464838723479,
           0.27683284723698837,
           0.058543136861595194,
           -0.07644386196518269,
           0.2888860554869108,
           0.3237224136066502,
           0.3806374949735071,
           0.4213779828759713,
           -0.0007095096206731084,
           0.6300116462511148,
           -0.06451204863131507,
           -0.054535811983635524,
           1,
           0.13638058874914522,
           0.36325198302327694,
           0.1331152141960393,
           0.5547842535334836,
           0.2436705030799116,
           0.4845573867195222,
           0.469672043267628,
           0.4056562084540099,
           0.18770321383582822,
           0.25997742546824865,
           -0.11509296346134239,
           0.03535301658385297,
           -0.00810609332811188,
           0.04960382558403366,
           -0.014289844970848111,
           0.055872128991723384,
           -0.019668840691520386,
           0.5606637627484453
          ],
          [
           0.17735438864391687,
           0.05353185497960593,
           0.014259468566431947,
           0.2734580986427702,
           -0.06076932676159483,
           0.2426559102410641,
           0.1833306117185349,
           0.20144394692967832,
           0.004262424384486936,
           -0.032147837468965886,
           -0.04111753014455172,
           -0.04880373863521248,
           -0.11991590879396136,
           0.6097073002717436,
           -0.02708004931716945,
           0.4157716361052652,
           -0.030904959142533293,
           -0.012339900052275487,
           0.13638058874914522,
           1,
           0.22665148415094508,
           -0.06826254889694101,
           0.3434148575409178,
           0.20364850809521917,
           0.19678517580586272,
           0.21917815216716094,
           0.1635493640166073,
           0.10808030267536337,
           0.19974014751279254,
           -0.09531652573608992,
           -0.0049724884173161,
           0.0724258451703809,
           0.0223814980554099,
           0.0012901448492839542,
           -0.009049888212650292,
           -0.010268668868105917,
           0.28410767559478256
          ],
          [
           -0.02343802846062706,
           0.263169915881059,
           0.11968990815131542,
           0.1016763562417855,
           0.012980060094550628,
           -0.07065121690473103,
           -0.040580928067749454,
           0.10282115127801787,
           -0.10735467682307034,
           -0.015728113626581035,
           0.16664331698696289,
           0.05044995551267818,
           0.12740074939236454,
           0.5029006133459056,
           0.10560656854090526,
           0.5212695109189948,
           -0.15067280920795623,
           0.046518848389950684,
           0.36325198302327694,
           0.22665148415094508,
           1,
           0.1985967577071338,
           0.676619935742649,
           0.10756968099132388,
           -0.06451843698438452,
           0.08610643768835287,
           0.06525252989881626,
           0.04685377306989394,
           0.09380957160591452,
           0.04157043451959824,
           -0.02447779636611455,
           0.044299691127134826,
           0.07070258356547471,
           0.007766971998717607,
           0.04654385993628238,
           -0.03601389283370446,
           0.16821315430073963
          ],
          [
           0.2817210402648814,
           -0.0060688301613090875,
           -0.017783870504841995,
           -0.18388223454922156,
           -0.08700085543638039,
           -0.17480024561497706,
           -0.14959752104274646,
           -0.03761025181986861,
           -0.08100685077857439,
           -0.04075123644840764,
           0.030085868314000126,
           -0.06890064264201659,
           0.06810058817691335,
           0.05930575264821624,
           0.007521744344233734,
           0.10006316473775474,
           -0.041502546431482885,
           -0.03794435022720086,
           0.1331152141960393,
           -0.06826254889694101,
           0.1985967577071338,
           1,
           0.2560454085359489,
           -0.12393623529689729,
           -0.12441140157001684,
           -0.05063389240221729,
           -0.06443304718314395,
           -0.09013027267903444,
           -0.07009060989258609,
           0.03731238503296963,
           -0.024600358690531954,
           -0.05161336606147979,
           -0.014525116015980777,
           0.062340724004379115,
           0.026588907230915452,
           0.031687206500669154,
           -0.13590737084214105
          ],
          [
           0.04038006478367613,
           0.3520959476602243,
           0.190014777625409,
           0.42745234327798975,
           -0.057583166112865375,
           0.09558912829795185,
           0.1917398162928069,
           0.2806816946085068,
           0.044315623912920654,
           -0.03522654794752336,
           0.25064706137624926,
           0.28557256372579454,
           0.40951597886683183,
           0.6164226354915431,
           0.13118477598954745,
           0.8254893743088425,
           -0.0532752361233972,
           -0.023836341262220544,
           0.5547842535334836,
           0.3434148575409178,
           0.676619935742649,
           0.2560454085359489,
           1,
           0.3261144801772001,
           0.1481117155859651,
           0.3622885708147746,
           0.33782212063683786,
           0.16598388371493233,
           0.2341915878315988,
           0.004151299023856323,
           -0.006683241010939702,
           0.059382599559410935,
           0.0837573495149245,
           0.024762884163584138,
           0.036907077159844405,
           -0.03451635430218269,
           0.5337231555820284
          ],
          [
           -0.04556934027456939,
           0.26663948256030306,
           0.2713640096245418,
           0.39676503795208906,
           -0.02381997776166212,
           0.14771639941245646,
           0.11258131843947561,
           0.24906961283714313,
           0.2600109202350403,
           0.04692070882601213,
           0.0515748822895418,
           0.33951932389865597,
           0.41053108465984556,
           0.19456089224132392,
           -0.02127214341393874,
           0.46167913376144704,
           0.1379277084271981,
           0.028975586646259963,
           0.2436705030799116,
           0.20364850809521917,
           0.10756968099132388,
           -0.12393623529689729,
           0.3261144801772001,
           1,
           0.04682164840190421,
           0.3007887663013562,
           0.2691412380738719,
           0.20001879575902368,
           0.16940532713120185,
           -0.02482186853706847,
           0.011257238992774959,
           0.18453026951684842,
           0.09507352203619863,
           0.0014086054430451757,
           0.04635710249771968,
           -0.024095564980725313,
           0.46692883675152763
          ],
          [
           0.08507186950664718,
           0.0702497819166165,
           -0.02494741866564254,
           0.5477658448351629,
           -0.32429673252939795,
           0.8256674841743408,
           0.6422767797035356,
           0.2526907749903342,
           0.1534840980267781,
           -0.08801081541220088,
           0.19070827345893257,
           0.3224451736794739,
           0.23344909271486267,
           0.0708323397173792,
           -0.03636323404234127,
           0.23119674063336224,
           0.12455252442364974,
           -0.07746361238070294,
           0.4845573867195222,
           0.19678517580586272,
           -0.06451843698438452,
           -0.12441140157001684,
           0.1481117155859651,
           0.04682164840190421,
           1,
           0.5889200070047002,
           0.5645670607230577,
           0.22457699198793213,
           0.22842457877198022,
           -0.2970026030557314,
           0.023543689573665077,
           -0.07541751376190593,
           -0.01450067856370222,
           -0.032417457821261826,
           0.0053370257603695135,
           -0.0010142778712734348,
           0.4863616774878596
          ],
          [
           -0.040109793135783604,
           0.2856909246851005,
           0.15487073975354076,
           0.6006707165907149,
           -0.18575751057836357,
           0.5378500917111052,
           0.42062215494321714,
           0.3642036400698656,
           0.22405352239399068,
           -0.038263512869251545,
           0.2141751897502169,
           0.43458483429168865,
           0.4393168079906709,
           0.18392558307638002,
           -0.09447952015593257,
           0.4672474187951873,
           0.13188122440619438,
           -0.02089105899687853,
           0.469672043267628,
           0.21917815216716094,
           0.08610643768835287,
           -0.05063389240221729,
           0.3622885708147746,
           0.3007887663013562,
           0.5889200070047002,
           1,
           0.882475414281462,
           0.2263421384698597,
           0.21356944558969115,
           -0.15143416002683724,
           0.035765285146453774,
           0.05049379192719834,
           0.020933531041465454,
           -0.04308012810223063,
           0.040521730128251755,
           -0.039116904112831495,
           0.6404091972583519
          ],
          [
           -0.09867154319256435,
           0.3449967241064819,
           0.1804027551511169,
           0.5620217566126083,
           -0.15152137057022985,
           0.4789538198934904,
           0.3715998094973092,
           0.37306648160023664,
           0.2969703853445138,
           -0.018226591907316552,
           0.18330269774258412,
           0.4866654637737961,
           0.4897816541041918,
           0.13834695857186657,
           -0.06760141323952208,
           0.4689974773229655,
           0.179189480420231,
           -0.02453557957887923,
           0.4056562084540099,
           0.1635493640166073,
           0.06525252989881626,
           -0.06443304718314395,
           0.33782212063683786,
           0.2691412380738719,
           0.5645670607230577,
           0.882475414281462,
           1,
           0.2246663071787637,
           0.2414346721380881,
           -0.1217767195610043,
           0.03508670020815975,
           0.05141176244520852,
           0.061047271702060014,
           -0.02739991441262488,
           0.02797379982354057,
           -0.027377940418545084,
           0.6234314389183622
          ],
          [
           -0.012579358249219592,
           0.0885209332894081,
           0.17169768725711246,
           0.23892339224918593,
           -0.0033336992893856225,
           0.22488014230399744,
           0.20572592049010355,
           0.15971813436595433,
           0.20430614523740265,
           0.06789832641361218,
           -0.005316424333062066,
           0.23201860912901803,
           0.23545862278369778,
           0.09216541758603868,
           -0.025443647988791077,
           0.24743282051884846,
           0.17531519007972224,
           0.04016122325953452,
           0.18770321383582822,
           0.10808030267536337,
           0.04685377306989394,
           -0.09013027267903444,
           0.16598388371493233,
           0.20001879575902368,
           0.22457699198793213,
           0.2263421384698597,
           0.2246663071787637,
           1,
           0.058660608565887375,
           -0.1259888880376007,
           -0.03277063359357436,
           -0.07418135123983237,
           0.07337820695645396,
           -0.009551228238372468,
           0.021011044294297315,
           0.022270451009253036,
           0.32441344456812926
          ],
          [
           -0.006100121231942238,
           0.15197222768060642,
           0.08477380884021642,
           0.3088188233594523,
           -0.03258881352158505,
           0.188685840001731,
           0.22629763268298944,
           0.1257027966825031,
           0.11176061335675101,
           0.003092562209894399,
           0.12900541461542128,
           0.2472637462881078,
           0.2116712254979847,
           0.2080260631813579,
           0.018251039053999052,
           0.33022396171200064,
           0.06734146137698176,
           -0.02532375788905772,
           0.25997742546824865,
           0.19974014751279254,
           0.09380957160591452,
           -0.07009060989258609,
           0.2341915878315988,
           0.16940532713120185,
           0.22842457877198022,
           0.21356944558969115,
           0.2414346721380881,
           0.058660608565887375,
           1,
           -0.09307931750864903,
           -0.005842499340135753,
           0.07430394385024312,
           0.060762111489925795,
           -0.018583738987649336,
           0.07125488475868938,
           -0.057619360142091326,
           0.31585622711605504
          ],
          [
           -0.012036621902094771,
           0.01070033663888244,
           -0.018339733672212328,
           -0.11393685859568162,
           0.07035618448230374,
           -0.3872677829280785,
           -0.1939191470992078,
           -0.11020383387243517,
           -0.10230330550073197,
           0.036543339448210164,
           -0.002537854589751547,
           -0.09547773670640776,
           -0.0652917009103091,
           0.06198869077325203,
           0.06108123777122687,
           0.009113210326003087,
           -0.049910649083753186,
           -0.008555333868578032,
           -0.11509296346134239,
           -0.09531652573608992,
           0.04157043451959824,
           0.03731238503296963,
           0.004151299023856323,
           -0.02482186853706847,
           -0.2970026030557314,
           -0.15143416002683724,
           -0.1217767195610043,
           -0.1259888880376007,
           -0.09307931750864903,
           1,
           -0.03730528278804611,
           -0.08286424483260343,
           0.05420256229213969,
           0.018360600139447715,
           -0.028887265707142493,
           -0.009915936955524396,
           -0.1285779579259566
          ],
          [
           -0.04382454917560846,
           0.07002922773085365,
           0.020422829586133416,
           0.03037056713526452,
           0.025503660024132138,
           0.03135451306436603,
           0.045285809814976964,
           0.018795515294914033,
           0.026450506189898953,
           -0.029993397993921023,
           0.02076400569654798,
           0.03738372726300508,
           0.05610437448487508,
           -0.02435764842204794,
           -0.004295610410300094,
           0.020643189710186576,
           -0.00010609153998400853,
           0.035113630886772336,
           0.03535301658385297,
           -0.0049724884173161,
           -0.02447779636611455,
           -0.024600358690531954,
           -0.006683241010939702,
           0.011257238992774959,
           0.023543689573665077,
           0.035765285146453774,
           0.03508670020815975,
           -0.03277063359357436,
           -0.005842499340135753,
           -0.03730528278804611,
           1,
           -0.03143584703909575,
           -0.00799154887286895,
           0.00035396527793940183,
           0.02947379524994019,
           0.01864492540475066,
           0.04458366533574838
          ],
          [
           -0.026030176699806666,
           0.04138279067500582,
           0.04316037769525204,
           0.06488636049351544,
           0.05481052878611526,
           -0.05036443453861205,
           -0.038740010742610125,
           0.06146554318732188,
           0.06202062266534991,
           0.08887125137339073,
           -0.012579273444256824,
           0.08448898591431157,
           0.08875807262015682,
           0.040606447641001006,
           0.02679941302177244,
           0.10151039568208567,
           0.023147725763573802,
           0.03212140720908338,
           -0.00810609332811188,
           0.0724258451703809,
           0.044299691127134826,
           -0.05161336606147979,
           0.059382599559410935,
           0.18453026951684842,
           -0.07541751376190593,
           0.05049379192719834,
           0.05141176244520852,
           -0.07418135123983237,
           0.07430394385024312,
           -0.08286424483260343,
           -0.03143584703909575,
           1,
           0.05130739451790554,
           0.03194576077490817,
           0.023216991793307076,
           0.01069410600377114,
           0.11144657114291112
          ],
          [
           0.008282707579624416,
           0.2061667752760768,
           0.07767239188017444,
           0.06516584360589199,
           -0.0019849422681841354,
           0.004949727615942999,
           0.005829372037106204,
           0.01172306121326672,
           0.1404912862549568,
           0.041709054681333575,
           -0.035092240793657914,
           0.12605313210083768,
           0.13152497564028254,
           0.08148687804909954,
           0.06215737226918922,
           0.1702053360005616,
           0.06761555618047507,
           0.02002462983851695,
           0.04960382558403366,
           0.0223814980554099,
           0.07070258356547471,
           -0.014525116015980777,
           0.0837573495149245,
           0.09507352203619863,
           -0.01450067856370222,
           0.020933531041465454,
           0.061047271702060014,
           0.07337820695645396,
           0.060762111489925795,
           0.05420256229213969,
           -0.00799154887286895,
           0.05130739451790554,
           1,
           0.02966865085402175,
           -0.033736640262791315,
           -0.0596889316752469,
           0.09240354949187318
          ],
          [
           -0.007683291329865976,
           0.003367556596191435,
           0.03806769201918336,
           -0.031406210500746504,
           0.0687768060572499,
           -0.03438313873672287,
           -0.010286248783081431,
           -0.02981539358527878,
           0.003571473474954695,
           0.004939781228437705,
           -0.023836645134507763,
           -0.018478922431472124,
           -0.021095719463122223,
           0.016196874604388505,
           -0.003792870779996453,
           -0.0024156395502935623,
           -0.02304702486861695,
           -0.007366524543625446,
           -0.014289844970848111,
           0.0012901448492839542,
           0.007766971998717607,
           0.062340724004379115,
           0.024762884163584138,
           0.0014086054430451757,
           -0.032417457821261826,
           -0.04308012810223063,
           -0.02739991441262488,
           -0.009551228238372468,
           -0.018583738987649336,
           0.018360600139447715,
           0.00035396527793940183,
           0.03194576077490817,
           0.02966865085402175,
           1,
           -0.006494550221282175,
           0.004906262452651876,
           -0.021189579640303213
          ],
          [
           -0.013584643238322348,
           0.011199954759134238,
           0.0012049882225877268,
           0.07081517178517327,
           -0.003510838599939743,
           0.012398470595440986,
           0.02149000222687611,
           -0.005964715509114298,
           -0.015726948262154667,
           -0.015210737972006668,
           0.03488844300908206,
           0.013196178616778433,
           0.03137156035207926,
           0.035164427361791005,
           -0.02217396057953783,
           0.05023968081827284,
           -0.025360894315259907,
           0.03287270523409066,
           0.055872128991723384,
           -0.009049888212650292,
           0.04654385993628238,
           0.026588907230915452,
           0.036907077159844405,
           0.04635710249771968,
           0.0053370257603695135,
           0.040521730128251755,
           0.02797379982354057,
           0.021011044294297315,
           0.07125488475868938,
           -0.028887265707142493,
           0.02947379524994019,
           0.023216991793307076,
           -0.033736640262791315,
           -0.006494550221282175,
           1,
           -0.1457214126753949,
           0.046432245223819446
          ],
          [
           -0.02140703785109821,
           0.007449589209750463,
           -0.01426140729855021,
           -0.027346708327825386,
           0.043949745692488544,
           -0.01361768000183213,
           0.03574324712127364,
           -0.008201030967080006,
           0.014358922393909302,
           0.03170563698487945,
           -0.04125819493876721,
           -0.014968648018762356,
           -0.01360377050464661,
           -0.02869991393529755,
           -0.028920879782296086,
           -0.03652581962473121,
           0.06704913767140361,
           -0.04652388177400862,
           -0.019668840691520386,
           -0.010268668868105917,
           -0.03601389283370446,
           0.031687206500669154,
           -0.03451635430218269,
           -0.024095564980725313,
           -0.0010142778712734348,
           -0.039116904112831495,
           -0.027377940418545084,
           0.022270451009253036,
           -0.057619360142091326,
           -0.009915936955524396,
           0.01864492540475066,
           0.01069410600377114,
           -0.0596889316752469,
           0.004906262452651876,
           -0.1457214126753949,
           1,
           -0.028922585168736813
          ],
          [
           -0.08428413512659509,
           0.35179909657067737,
           0.2638433538714051,
           0.7909816005838053,
           -0.07785589404867797,
           0.5228973328794967,
           0.5071009671113866,
           0.47749304709571444,
           0.3864198062421535,
           -0.011378121450215146,
           0.21447910554696928,
           0.6135805515591943,
           0.6058521846919153,
           0.31933380283206736,
           -0.02560613000067955,
           0.7086244776126515,
           0.22712223313149427,
           -0.01684415429735895,
           0.5606637627484453,
           0.28410767559478256,
           0.16821315430073963,
           -0.13590737084214105,
           0.5337231555820284,
           0.46692883675152763,
           0.4863616774878596,
           0.6404091972583519,
           0.6234314389183622,
           0.32441344456812926,
           0.31585622711605504,
           -0.1285779579259566,
           0.04458366533574838,
           0.11144657114291112,
           0.09240354949187318,
           -0.021189579640303213,
           0.046432245223819446,
           -0.028922585168736813,
           1
          ]
         ]
        }
       ],
       "layout": {
        "coloraxis": {
         "colorscale": [
          [
           0,
           "#0d0887"
          ],
          [
           0.1111111111111111,
           "#46039f"
          ],
          [
           0.2222222222222222,
           "#7201a8"
          ],
          [
           0.3333333333333333,
           "#9c179e"
          ],
          [
           0.4444444444444444,
           "#bd3786"
          ],
          [
           0.5555555555555556,
           "#d8576b"
          ],
          [
           0.6666666666666666,
           "#ed7953"
          ],
          [
           0.7777777777777778,
           "#fb9f3a"
          ],
          [
           0.8888888888888888,
           "#fdca26"
          ],
          [
           1,
           "#f0f921"
          ]
         ]
        },
        "height": 800,
        "margin": {
         "t": 60
        },
        "template": {
         "data": {
          "bar": [
           {
            "error_x": {
             "color": "#f2f5fa"
            },
            "error_y": {
             "color": "#f2f5fa"
            },
            "marker": {
             "line": {
              "color": "rgb(17,17,17)",
              "width": 0.5
             },
             "pattern": {
              "fillmode": "overlay",
              "size": 10,
              "solidity": 0.2
             }
            },
            "type": "bar"
           }
          ],
          "barpolar": [
           {
            "marker": {
             "line": {
              "color": "rgb(17,17,17)",
              "width": 0.5
             },
             "pattern": {
              "fillmode": "overlay",
              "size": 10,
              "solidity": 0.2
             }
            },
            "type": "barpolar"
           }
          ],
          "carpet": [
           {
            "aaxis": {
             "endlinecolor": "#A2B1C6",
             "gridcolor": "#506784",
             "linecolor": "#506784",
             "minorgridcolor": "#506784",
             "startlinecolor": "#A2B1C6"
            },
            "baxis": {
             "endlinecolor": "#A2B1C6",
             "gridcolor": "#506784",
             "linecolor": "#506784",
             "minorgridcolor": "#506784",
             "startlinecolor": "#A2B1C6"
            },
            "type": "carpet"
           }
          ],
          "choropleth": [
           {
            "colorbar": {
             "outlinewidth": 0,
             "ticks": ""
            },
            "type": "choropleth"
           }
          ],
          "contour": [
           {
            "colorbar": {
             "outlinewidth": 0,
             "ticks": ""
            },
            "colorscale": [
             [
              0,
              "#0d0887"
             ],
             [
              0.1111111111111111,
              "#46039f"
             ],
             [
              0.2222222222222222,
              "#7201a8"
             ],
             [
              0.3333333333333333,
              "#9c179e"
             ],
             [
              0.4444444444444444,
              "#bd3786"
             ],
             [
              0.5555555555555556,
              "#d8576b"
             ],
             [
              0.6666666666666666,
              "#ed7953"
             ],
             [
              0.7777777777777778,
              "#fb9f3a"
             ],
             [
              0.8888888888888888,
              "#fdca26"
             ],
             [
              1,
              "#f0f921"
             ]
            ],
            "type": "contour"
           }
          ],
          "contourcarpet": [
           {
            "colorbar": {
             "outlinewidth": 0,
             "ticks": ""
            },
            "type": "contourcarpet"
           }
          ],
          "heatmap": [
           {
            "colorbar": {
             "outlinewidth": 0,
             "ticks": ""
            },
            "colorscale": [
             [
              0,
              "#0d0887"
             ],
             [
              0.1111111111111111,
              "#46039f"
             ],
             [
              0.2222222222222222,
              "#7201a8"
             ],
             [
              0.3333333333333333,
              "#9c179e"
             ],
             [
              0.4444444444444444,
              "#bd3786"
             ],
             [
              0.5555555555555556,
              "#d8576b"
             ],
             [
              0.6666666666666666,
              "#ed7953"
             ],
             [
              0.7777777777777778,
              "#fb9f3a"
             ],
             [
              0.8888888888888888,
              "#fdca26"
             ],
             [
              1,
              "#f0f921"
             ]
            ],
            "type": "heatmap"
           }
          ],
          "heatmapgl": [
           {
            "colorbar": {
             "outlinewidth": 0,
             "ticks": ""
            },
            "colorscale": [
             [
              0,
              "#0d0887"
             ],
             [
              0.1111111111111111,
              "#46039f"
             ],
             [
              0.2222222222222222,
              "#7201a8"
             ],
             [
              0.3333333333333333,
              "#9c179e"
             ],
             [
              0.4444444444444444,
              "#bd3786"
             ],
             [
              0.5555555555555556,
              "#d8576b"
             ],
             [
              0.6666666666666666,
              "#ed7953"
             ],
             [
              0.7777777777777778,
              "#fb9f3a"
             ],
             [
              0.8888888888888888,
              "#fdca26"
             ],
             [
              1,
              "#f0f921"
             ]
            ],
            "type": "heatmapgl"
           }
          ],
          "histogram": [
           {
            "marker": {
             "pattern": {
              "fillmode": "overlay",
              "size": 10,
              "solidity": 0.2
             }
            },
            "type": "histogram"
           }
          ],
          "histogram2d": [
           {
            "colorbar": {
             "outlinewidth": 0,
             "ticks": ""
            },
            "colorscale": [
             [
              0,
              "#0d0887"
             ],
             [
              0.1111111111111111,
              "#46039f"
             ],
             [
              0.2222222222222222,
              "#7201a8"
             ],
             [
              0.3333333333333333,
              "#9c179e"
             ],
             [
              0.4444444444444444,
              "#bd3786"
             ],
             [
              0.5555555555555556,
              "#d8576b"
             ],
             [
              0.6666666666666666,
              "#ed7953"
             ],
             [
              0.7777777777777778,
              "#fb9f3a"
             ],
             [
              0.8888888888888888,
              "#fdca26"
             ],
             [
              1,
              "#f0f921"
             ]
            ],
            "type": "histogram2d"
           }
          ],
          "histogram2dcontour": [
           {
            "colorbar": {
             "outlinewidth": 0,
             "ticks": ""
            },
            "colorscale": [
             [
              0,
              "#0d0887"
             ],
             [
              0.1111111111111111,
              "#46039f"
             ],
             [
              0.2222222222222222,
              "#7201a8"
             ],
             [
              0.3333333333333333,
              "#9c179e"
             ],
             [
              0.4444444444444444,
              "#bd3786"
             ],
             [
              0.5555555555555556,
              "#d8576b"
             ],
             [
              0.6666666666666666,
              "#ed7953"
             ],
             [
              0.7777777777777778,
              "#fb9f3a"
             ],
             [
              0.8888888888888888,
              "#fdca26"
             ],
             [
              1,
              "#f0f921"
             ]
            ],
            "type": "histogram2dcontour"
           }
          ],
          "mesh3d": [
           {
            "colorbar": {
             "outlinewidth": 0,
             "ticks": ""
            },
            "type": "mesh3d"
           }
          ],
          "parcoords": [
           {
            "line": {
             "colorbar": {
              "outlinewidth": 0,
              "ticks": ""
             }
            },
            "type": "parcoords"
           }
          ],
          "pie": [
           {
            "automargin": true,
            "type": "pie"
           }
          ],
          "scatter": [
           {
            "marker": {
             "line": {
              "color": "#283442"
             }
            },
            "type": "scatter"
           }
          ],
          "scatter3d": [
           {
            "line": {
             "colorbar": {
              "outlinewidth": 0,
              "ticks": ""
             }
            },
            "marker": {
             "colorbar": {
              "outlinewidth": 0,
              "ticks": ""
             }
            },
            "type": "scatter3d"
           }
          ],
          "scattercarpet": [
           {
            "marker": {
             "colorbar": {
              "outlinewidth": 0,
              "ticks": ""
             }
            },
            "type": "scattercarpet"
           }
          ],
          "scattergeo": [
           {
            "marker": {
             "colorbar": {
              "outlinewidth": 0,
              "ticks": ""
             }
            },
            "type": "scattergeo"
           }
          ],
          "scattergl": [
           {
            "marker": {
             "line": {
              "color": "#283442"
             }
            },
            "type": "scattergl"
           }
          ],
          "scattermapbox": [
           {
            "marker": {
             "colorbar": {
              "outlinewidth": 0,
              "ticks": ""
             }
            },
            "type": "scattermapbox"
           }
          ],
          "scatterpolar": [
           {
            "marker": {
             "colorbar": {
              "outlinewidth": 0,
              "ticks": ""
             }
            },
            "type": "scatterpolar"
           }
          ],
          "scatterpolargl": [
           {
            "marker": {
             "colorbar": {
              "outlinewidth": 0,
              "ticks": ""
             }
            },
            "type": "scatterpolargl"
           }
          ],
          "scatterternary": [
           {
            "marker": {
             "colorbar": {
              "outlinewidth": 0,
              "ticks": ""
             }
            },
            "type": "scatterternary"
           }
          ],
          "surface": [
           {
            "colorbar": {
             "outlinewidth": 0,
             "ticks": ""
            },
            "colorscale": [
             [
              0,
              "#0d0887"
             ],
             [
              0.1111111111111111,
              "#46039f"
             ],
             [
              0.2222222222222222,
              "#7201a8"
             ],
             [
              0.3333333333333333,
              "#9c179e"
             ],
             [
              0.4444444444444444,
              "#bd3786"
             ],
             [
              0.5555555555555556,
              "#d8576b"
             ],
             [
              0.6666666666666666,
              "#ed7953"
             ],
             [
              0.7777777777777778,
              "#fb9f3a"
             ],
             [
              0.8888888888888888,
              "#fdca26"
             ],
             [
              1,
              "#f0f921"
             ]
            ],
            "type": "surface"
           }
          ],
          "table": [
           {
            "cells": {
             "fill": {
              "color": "#506784"
             },
             "line": {
              "color": "rgb(17,17,17)"
             }
            },
            "header": {
             "fill": {
              "color": "#2a3f5f"
             },
             "line": {
              "color": "rgb(17,17,17)"
             }
            },
            "type": "table"
           }
          ]
         },
         "layout": {
          "annotationdefaults": {
           "arrowcolor": "#f2f5fa",
           "arrowhead": 0,
           "arrowwidth": 1
          },
          "autotypenumbers": "strict",
          "coloraxis": {
           "colorbar": {
            "outlinewidth": 0,
            "ticks": ""
           }
          },
          "colorscale": {
           "diverging": [
            [
             0,
             "#8e0152"
            ],
            [
             0.1,
             "#c51b7d"
            ],
            [
             0.2,
             "#de77ae"
            ],
            [
             0.3,
             "#f1b6da"
            ],
            [
             0.4,
             "#fde0ef"
            ],
            [
             0.5,
             "#f7f7f7"
            ],
            [
             0.6,
             "#e6f5d0"
            ],
            [
             0.7,
             "#b8e186"
            ],
            [
             0.8,
             "#7fbc41"
            ],
            [
             0.9,
             "#4d9221"
            ],
            [
             1,
             "#276419"
            ]
           ],
           "sequential": [
            [
             0,
             "#0d0887"
            ],
            [
             0.1111111111111111,
             "#46039f"
            ],
            [
             0.2222222222222222,
             "#7201a8"
            ],
            [
             0.3333333333333333,
             "#9c179e"
            ],
            [
             0.4444444444444444,
             "#bd3786"
            ],
            [
             0.5555555555555556,
             "#d8576b"
            ],
            [
             0.6666666666666666,
             "#ed7953"
            ],
            [
             0.7777777777777778,
             "#fb9f3a"
            ],
            [
             0.8888888888888888,
             "#fdca26"
            ],
            [
             1,
             "#f0f921"
            ]
           ],
           "sequentialminus": [
            [
             0,
             "#0d0887"
            ],
            [
             0.1111111111111111,
             "#46039f"
            ],
            [
             0.2222222222222222,
             "#7201a8"
            ],
            [
             0.3333333333333333,
             "#9c179e"
            ],
            [
             0.4444444444444444,
             "#bd3786"
            ],
            [
             0.5555555555555556,
             "#d8576b"
            ],
            [
             0.6666666666666666,
             "#ed7953"
            ],
            [
             0.7777777777777778,
             "#fb9f3a"
            ],
            [
             0.8888888888888888,
             "#fdca26"
            ],
            [
             1,
             "#f0f921"
            ]
           ]
          },
          "colorway": [
           "#636efa",
           "#EF553B",
           "#00cc96",
           "#ab63fa",
           "#FFA15A",
           "#19d3f3",
           "#FF6692",
           "#B6E880",
           "#FF97FF",
           "#FECB52"
          ],
          "font": {
           "color": "#f2f5fa"
          },
          "geo": {
           "bgcolor": "rgb(17,17,17)",
           "lakecolor": "rgb(17,17,17)",
           "landcolor": "rgb(17,17,17)",
           "showlakes": true,
           "showland": true,
           "subunitcolor": "#506784"
          },
          "hoverlabel": {
           "align": "left"
          },
          "hovermode": "closest",
          "mapbox": {
           "style": "dark"
          },
          "paper_bgcolor": "rgb(17,17,17)",
          "plot_bgcolor": "rgb(17,17,17)",
          "polar": {
           "angularaxis": {
            "gridcolor": "#506784",
            "linecolor": "#506784",
            "ticks": ""
           },
           "bgcolor": "rgb(17,17,17)",
           "radialaxis": {
            "gridcolor": "#506784",
            "linecolor": "#506784",
            "ticks": ""
           }
          },
          "scene": {
           "xaxis": {
            "backgroundcolor": "rgb(17,17,17)",
            "gridcolor": "#506784",
            "gridwidth": 2,
            "linecolor": "#506784",
            "showbackground": true,
            "ticks": "",
            "zerolinecolor": "#C8D4E3"
           },
           "yaxis": {
            "backgroundcolor": "rgb(17,17,17)",
            "gridcolor": "#506784",
            "gridwidth": 2,
            "linecolor": "#506784",
            "showbackground": true,
            "ticks": "",
            "zerolinecolor": "#C8D4E3"
           },
           "zaxis": {
            "backgroundcolor": "rgb(17,17,17)",
            "gridcolor": "#506784",
            "gridwidth": 2,
            "linecolor": "#506784",
            "showbackground": true,
            "ticks": "",
            "zerolinecolor": "#C8D4E3"
           }
          },
          "shapedefaults": {
           "line": {
            "color": "#f2f5fa"
           }
          },
          "sliderdefaults": {
           "bgcolor": "#C8D4E3",
           "bordercolor": "rgb(17,17,17)",
           "borderwidth": 1,
           "tickwidth": 0
          },
          "ternary": {
           "aaxis": {
            "gridcolor": "#506784",
            "linecolor": "#506784",
            "ticks": ""
           },
           "baxis": {
            "gridcolor": "#506784",
            "linecolor": "#506784",
            "ticks": ""
           },
           "bgcolor": "rgb(17,17,17)",
           "caxis": {
            "gridcolor": "#506784",
            "linecolor": "#506784",
            "ticks": ""
           }
          },
          "title": {
           "x": 0.05
          },
          "updatemenudefaults": {
           "bgcolor": "#506784",
           "borderwidth": 0
          },
          "xaxis": {
           "automargin": true,
           "gridcolor": "#283442",
           "linecolor": "#506784",
           "ticks": "",
           "title": {
            "standoff": 15
           },
           "zerolinecolor": "#283442",
           "zerolinewidth": 2
          },
          "yaxis": {
           "automargin": true,
           "gridcolor": "#283442",
           "linecolor": "#506784",
           "ticks": "",
           "title": {
            "standoff": 15
           },
           "zerolinecolor": "#283442",
           "zerolinewidth": 2
          }
         }
        },
        "width": 800,
        "xaxis": {
         "anchor": "y",
         "constrain": "domain",
         "domain": [
          0,
          1
         ],
         "scaleanchor": "y"
        },
        "yaxis": {
         "anchor": "x",
         "autorange": "reversed",
         "constrain": "domain",
         "domain": [
          0,
          1
         ]
        }
       }
      },
      "text/html": [
       "<div>                            <div id=\"9f0cf00b-71f5-44ea-b52a-4866df320f4e\" class=\"plotly-graph-div\" style=\"height:800px; width:800px;\"></div>            <script type=\"text/javascript\">                require([\"plotly\"], function(Plotly) {                    window.PLOTLYENV=window.PLOTLYENV || {};                                    if (document.getElementById(\"9f0cf00b-71f5-44ea-b52a-4866df320f4e\")) {                    Plotly.newPlot(                        \"9f0cf00b-71f5-44ea-b52a-4866df320f4e\",                        [{\"coloraxis\":\"coloraxis\",\"hovertemplate\":\"x: %{x}<br>y: %{y}<br>color: %{z}<extra></extra>\",\"name\":\"0\",\"type\":\"heatmap\",\"x\":[\"MSSubClass\",\"LotFrontage\",\"LotArea\",\"OverallQual\",\"OverallCond\",\"YearBuilt\",\"YearRemodAdd\",\"MasVnrArea\",\"BsmtFinSF1\",\"BsmtFinSF2\",\"BsmtUnfSF\",\"TotalBsmtSF\",\"1stFlrSF\",\"2ndFlrSF\",\"LowQualFinSF\",\"GrLivArea\",\"BsmtFullBath\",\"BsmtHalfBath\",\"FullBath\",\"HalfBath\",\"BedroomAbvGr\",\"KitchenAbvGr\",\"TotRmsAbvGrd\",\"Fireplaces\",\"GarageYrBlt\",\"GarageCars\",\"GarageArea\",\"WoodDeckSF\",\"OpenPorchSF\",\"EnclosedPorch\",\"3SsnPorch\",\"ScreenPorch\",\"PoolArea\",\"MiscVal\",\"MoSold\",\"YrSold\",\"SalePrice\"],\"xaxis\":\"x\",\"y\":[\"MSSubClass\",\"LotFrontage\",\"LotArea\",\"OverallQual\",\"OverallCond\",\"YearBuilt\",\"YearRemodAdd\",\"MasVnrArea\",\"BsmtFinSF1\",\"BsmtFinSF2\",\"BsmtUnfSF\",\"TotalBsmtSF\",\"1stFlrSF\",\"2ndFlrSF\",\"LowQualFinSF\",\"GrLivArea\",\"BsmtFullBath\",\"BsmtHalfBath\",\"FullBath\",\"HalfBath\",\"BedroomAbvGr\",\"KitchenAbvGr\",\"TotRmsAbvGrd\",\"Fireplaces\",\"GarageYrBlt\",\"GarageCars\",\"GarageArea\",\"WoodDeckSF\",\"OpenPorchSF\",\"EnclosedPorch\",\"3SsnPorch\",\"ScreenPorch\",\"PoolArea\",\"MiscVal\",\"MoSold\",\"YrSold\",\"SalePrice\"],\"yaxis\":\"y\",\"z\":[[1.0,-0.3863468853449291,-0.13978108172014597,0.032627707521842034,-0.059315817084104695,0.027850136946705798,0.04058104478406425,0.022936285894197328,-0.06983574916710049,-0.06564857918852389,-0.14075948083501172,-0.23851840931511895,-0.25175835187837925,0.30788572075985926,0.046473755899517154,0.0748531796577994,0.003491025779044692,-0.0023325345518022773,0.13160822241028108,0.17735438864391687,-0.02343802846062706,0.2817210402648814,0.04038006478367613,-0.04556934027456939,0.08507186950664718,-0.040109793135783604,-0.09867154319256435,-0.012579358249219592,-0.006100121231942238,-0.012036621902094771,-0.04382454917560846,-0.026030176699806666,0.008282707579624416,-0.007683291329865976,-0.013584643238322348,-0.02140703785109821,-0.08428413512659509],[-0.3863468853449291,1.0,0.4260950187718081,0.2516457754806124,-0.059213450005246894,0.12334946703331619,0.08886557249206646,0.19345806055826867,0.233633167019755,0.0498996766909894,0.13264374162493364,0.3920745763791721,0.45718100199465517,0.08017727062420475,0.038468534328959476,0.40279741408531955,0.10094856694926875,-0.007234304524918128,0.19876867789737823,0.05353185497960593,0.263169915881059,-0.0060688301613090875,0.3520959476602243,0.26663948256030306,0.0702497819166165,0.2856909246851005,0.3449967241064819,0.0885209332894081,0.15197222768060642,0.01070033663888244,0.07002922773085365,0.04138279067500582,0.2061667752760768,0.003367556596191435,0.011199954759134238,0.007449589209750463,0.35179909657067737],[-0.13978108172014597,0.4260950187718081,1.0,0.10580574175496422,-0.005636270274099278,0.014227651757025093,0.013788427078155424,0.10415982154021264,0.21410313070557713,0.11116974549624871,-0.00261835995009543,0.2608331345451572,0.29947457850776266,0.05098594829349377,0.004778969866349555,0.26311616716714803,0.15815453106001476,0.04804557088829686,0.1260306265196436,0.014259468566431947,0.11968990815131542,-0.017783870504841995,0.190014777625409,0.2713640096245418,-0.02494741866564254,0.15487073975354076,0.1804027551511169,0.17169768725711246,0.08477380884021642,-0.018339733672212328,0.020422829586133416,0.04316037769525204,0.07767239188017444,0.03806769201918336,0.0012049882225877268,-0.01426140729855021,0.2638433538714051],[0.032627707521842034,0.2516457754806124,0.10580574175496422,1.0,-0.09193234263907182,0.5723227689623621,0.5506839241941717,0.4118756672776833,0.23966596617889105,-0.05911869267068986,0.30815892690564284,0.5378084986123907,0.4762238290781779,0.29549287919970985,-0.030429283979605037,0.5930074300286512,0.11109778614230235,-0.04015015766998829,0.5505997093682543,0.2734580986427702,0.1016763562417855,-0.18388223454922156,0.42745234327798975,0.39676503795208906,0.5477658448351629,0.6006707165907149,0.5620217566126083,0.23892339224918593,0.3088188233594523,-0.11393685859568162,0.03037056713526452,0.06488636049351544,0.06516584360589199,-0.031406210500746504,0.07081517178517327,-0.027346708327825386,0.7909816005838053],[-0.059315817084104695,-0.059213450005246894,-0.005636270274099278,-0.09193234263907182,1.0,-0.37598319560698945,0.07374149814528905,-0.1281011991656896,-0.04623085591822496,0.040229169899767575,-0.13684056989352233,-0.1710975146249218,-0.1442027840490591,0.028942115965816882,0.025494319914213383,-0.07968586538833815,-0.05494151543295185,0.11782091508139253,-0.1941494887493024,-0.06076932676159483,0.012980060094550628,-0.08700085543638039,-0.057583166112865375,-0.02381997776166212,-0.32429673252939795,-0.18575751057836357,-0.15152137057022985,-0.0033336992893856225,-0.03258881352158505,0.07035618448230374,0.025503660024132138,0.05481052878611526,-0.0019849422681841354,0.0687768060572499,-0.003510838599939743,0.043949745692488544,-0.07785589404867797],[0.027850136946705798,0.12334946703331619,0.014227651757025093,0.5723227689623621,-0.37598319560698945,1.0,0.5928549763436519,0.3157070624361963,0.24950319668479728,-0.049106831196239174,0.14904039195440058,0.3914520020660952,0.2819858586998021,0.010307659584364078,-0.18378434437372046,0.19900971367645826,0.1875985499971434,-0.03816180567123349,0.4682707871726737,0.2426559102410641,-0.07065121690473103,-0.17480024561497706,0.09558912829795185,0.14771639941245646,0.8256674841743408,0.5378500917111052,0.4789538198934904,0.22488014230399744,0.188685840001731,-0.3872677829280785,0.03135451306436603,-0.05036443453861205,0.004949727615942999,-0.03438313873672287,0.012398470595440986,-0.01361768000183213,0.5228973328794967],[0.04058104478406425,0.08886557249206646,0.013788427078155424,0.5506839241941717,0.07374149814528905,0.5928549763436519,1.0,0.17961837073552223,0.12845054712828866,-0.06775851356598699,0.18113308705016903,0.2910655826041661,0.24037926760355463,0.14002377880486447,-0.06241910007833181,0.2873885196503327,0.11946987911123993,-0.012337032127797673,0.4390464838723479,0.1833306117185349,-0.040580928067749454,-0.14959752104274646,0.1917398162928069,0.11258131843947561,0.6422767797035356,0.42062215494321714,0.3715998094973092,0.20572592049010355,0.22629763268298944,-0.1939191470992078,0.045285809814976964,-0.038740010742610125,0.005829372037106204,-0.010286248783081431,0.02149000222687611,0.03574324712127364,0.5071009671113866],[0.022936285894197328,0.19345806055826867,0.10415982154021264,0.4118756672776833,-0.1281011991656896,0.3157070624361963,0.17961837073552223,1.0,0.2647362647138685,-0.0723188482033582,0.11444206231380821,0.3639362217744723,0.3445007468899248,0.1745614734574279,-0.06907085606589286,0.39085663973843854,0.08530982868972814,0.026672828155103145,0.27683284723698837,0.20144394692967832,0.10282115127801787,-0.03761025181986861,0.2806816946085068,0.24906961283714313,0.2526907749903342,0.3642036400698656,0.37306648160023664,0.15971813436595433,0.1257027966825031,-0.11020383387243517,0.018795515294914033,0.06146554318732188,0.01172306121326672,-0.02981539358527878,-0.005964715509114298,-0.008201030967080006,0.47749304709571444],[-0.06983574916710049,0.233633167019755,0.21410313070557713,0.23966596617889105,-0.04623085591822496,0.24950319668479728,0.12845054712828866,0.2647362647138685,1.0,-0.0501174000471511,-0.49525146925701125,0.5223960519923867,0.4458626560920054,-0.13707898608005356,-0.06450259692146844,0.20817113014532704,0.6492117535742649,0.06741847791011696,0.058543136861595194,0.004262424384486936,-0.10735467682307034,-0.08100685077857439,0.044315623912920654,0.2600109202350403,0.1534840980267781,0.22405352239399068,0.2969703853445138,0.20430614523740265,0.11176061335675101,-0.10230330550073197,0.026450506189898953,0.06202062266534991,0.1404912862549568,0.003571473474954695,-0.015726948262154667,0.014358922393909302,0.3864198062421535],[-0.06564857918852389,0.0498996766909894,0.11116974549624871,-0.05911869267068986,0.040229169899767575,-0.049106831196239174,-0.06775851356598699,-0.0723188482033582,-0.0501174000471511,1.0,-0.20929449241994497,0.10480953760636813,0.0971174484566702,-0.09926031602264425,0.01480699794683367,-0.009639891551805443,0.15867806078170135,0.07094813365590413,-0.07644386196518269,-0.032147837468965886,-0.015728113626581035,-0.04075123644840764,-0.03522654794752336,0.04692070882601213,-0.08801081541220088,-0.038263512869251545,-0.018226591907316552,0.06789832641361218,0.003092562209894399,0.036543339448210164,-0.029993397993921023,0.08887125137339073,0.041709054681333575,0.004939781228437705,-0.015210737972006668,0.03170563698487945,-0.011378121450215146],[-0.14075948083501172,0.13264374162493364,-0.00261835995009543,0.30815892690564284,-0.13684056989352233,0.14904039195440058,0.18113308705016903,0.11444206231380821,-0.49525146925701125,-0.20929449241994497,1.0,0.4153596051815893,0.3179874383527259,0.004469092144542392,0.028166688132741206,0.240257268349935,-0.42290047738321335,-0.09580428815248283,0.2888860554869108,-0.04111753014455172,0.16664331698696289,0.030085868314000126,0.25064706137624926,0.0515748822895418,0.19070827345893257,0.2141751897502169,0.18330269774258412,-0.005316424333062066,0.12900541461542128,-0.002537854589751547,0.02076400569654798,-0.012579273444256824,-0.035092240793657914,-0.023836645134507763,0.03488844300908206,-0.04125819493876721,0.21447910554696928],[-0.23851840931511895,0.3920745763791721,0.2608331345451572,0.5378084986123907,-0.1710975146249218,0.3914520020660952,0.2910655826041661,0.3639362217744723,0.5223960519923867,0.10480953760636813,0.4153596051815893,1.0,0.8195299750050339,-0.17451195013496046,-0.0332453873474563,0.45486820254790317,0.30735055373550346,-0.00031458181983374725,0.3237224136066502,-0.04880373863521248,0.05044995551267818,-0.06890064264201659,0.28557256372579454,0.33951932389865597,0.3224451736794739,0.43458483429168865,0.4866654637737961,0.23201860912901803,0.2472637462881078,-0.09547773670640776,0.03738372726300508,0.08448898591431157,0.12605313210083768,-0.018478922431472124,0.013196178616778433,-0.014968648018762356,0.6135805515591943],[-0.25175835187837925,0.45718100199465517,0.29947457850776266,0.4762238290781779,-0.1442027840490591,0.2819858586998021,0.24037926760355463,0.3445007468899248,0.4458626560920054,0.0971174484566702,0.3179874383527259,0.8195299750050339,1.0,-0.20264618100232087,-0.014240672666431285,0.5660239689357486,0.24467110424771052,0.001955653582048656,0.3806374949735071,-0.11991590879396136,0.12740074939236454,0.06810058817691335,0.40951597886683183,0.41053108465984556,0.23344909271486267,0.4393168079906709,0.4897816541041918,0.23545862278369778,0.2116712254979847,-0.0652917009103091,0.05610437448487508,0.08875807262015682,0.13152497564028254,-0.021095719463122223,0.03137156035207926,-0.01360377050464661,0.6058521846919153],[0.30788572075985926,0.08017727062420475,0.05098594829349377,0.29549287919970985,0.028942115965816882,0.010307659584364078,0.14002377880486447,0.1745614734574279,-0.13707898608005356,-0.09926031602264425,0.004469092144542392,-0.17451195013496046,-0.20264618100232087,1.0,0.06335295010932271,0.6875010641666033,-0.16949395173099896,-0.023854783937045255,0.4213779828759713,0.6097073002717436,0.5029006133459056,0.05930575264821624,0.6164226354915431,0.19456089224132392,0.0708323397173792,0.18392558307638002,0.13834695857186657,0.09216541758603868,0.2080260631813579,0.06198869077325203,-0.02435764842204794,0.040606447641001006,0.08148687804909954,0.016196874604388505,0.035164427361791005,-0.02869991393529755,0.31933380283206736],[0.046473755899517154,0.038468534328959476,0.004778969866349555,-0.030429283979605037,0.025494319914213383,-0.18378434437372046,-0.06241910007833181,-0.06907085606589286,-0.06450259692146844,0.01480699794683367,0.028166688132741206,-0.0332453873474563,-0.014240672666431285,0.06335295010932271,1.0,0.13468281300660076,-0.047143421898259166,-0.005841504819311643,-0.0007095096206731084,-0.02708004931716945,0.10560656854090526,0.007521744344233734,0.13118477598954745,-0.02127214341393874,-0.03636323404234127,-0.09447952015593257,-0.06760141323952208,-0.025443647988791077,0.018251039053999052,0.06108123777122687,-0.004295610410300094,0.02679941302177244,0.06215737226918922,-0.003792870779996453,-0.02217396057953783,-0.028920879782296086,-0.02560613000067955],[0.0748531796577994,0.40279741408531955,0.26311616716714803,0.5930074300286512,-0.07968586538833815,0.19900971367645826,0.2873885196503327,0.39085663973843854,0.20817113014532704,-0.009639891551805443,0.240257268349935,0.45486820254790317,0.5660239689357486,0.6875010641666033,0.13468281300660076,1.0,0.03483604954490554,-0.0189184831706347,0.6300116462511148,0.4157716361052652,0.5212695109189948,0.10006316473775474,0.8254893743088425,0.46167913376144704,0.23119674063336224,0.4672474187951873,0.4689974773229655,0.24743282051884846,0.33022396171200064,0.009113210326003087,0.020643189710186576,0.10151039568208567,0.1702053360005616,-0.0024156395502935623,0.05023968081827284,-0.03652581962473121,0.7086244776126515],[0.003491025779044692,0.10094856694926875,0.15815453106001476,0.11109778614230235,-0.05494151543295185,0.1875985499971434,0.11946987911123993,0.08530982868972814,0.6492117535742649,0.15867806078170135,-0.42290047738321335,0.30735055373550346,0.24467110424771052,-0.16949395173099896,-0.047143421898259166,0.03483604954490554,1.0,-0.14787096054760138,-0.06451204863131507,-0.030904959142533293,-0.15067280920795623,-0.041502546431482885,-0.0532752361233972,0.1379277084271981,0.12455252442364974,0.13188122440619438,0.179189480420231,0.17531519007972224,0.06734146137698176,-0.049910649083753186,-0.00010609153998400853,0.023147725763573802,0.06761555618047507,-0.02304702486861695,-0.025360894315259907,0.06704913767140361,0.22712223313149427],[-0.0023325345518022773,-0.007234304524918128,0.04804557088829686,-0.04015015766998829,0.11782091508139253,-0.03816180567123349,-0.012337032127797673,0.026672828155103145,0.06741847791011696,0.07094813365590413,-0.09580428815248283,-0.00031458181983374725,0.001955653582048656,-0.023854783937045255,-0.005841504819311643,-0.0189184831706347,-0.14787096054760138,1.0,-0.054535811983635524,-0.012339900052275487,0.046518848389950684,-0.03794435022720086,-0.023836341262220544,0.028975586646259963,-0.07746361238070294,-0.02089105899687853,-0.02453557957887923,0.04016122325953452,-0.02532375788905772,-0.008555333868578032,0.035113630886772336,0.03212140720908338,0.02002462983851695,-0.007366524543625446,0.03287270523409066,-0.04652388177400862,-0.01684415429735895],[0.13160822241028108,0.19876867789737823,0.1260306265196436,0.5505997093682543,-0.1941494887493024,0.4682707871726737,0.4390464838723479,0.27683284723698837,0.058543136861595194,-0.07644386196518269,0.2888860554869108,0.3237224136066502,0.3806374949735071,0.4213779828759713,-0.0007095096206731084,0.6300116462511148,-0.06451204863131507,-0.054535811983635524,1.0,0.13638058874914522,0.36325198302327694,0.1331152141960393,0.5547842535334836,0.2436705030799116,0.4845573867195222,0.469672043267628,0.4056562084540099,0.18770321383582822,0.25997742546824865,-0.11509296346134239,0.03535301658385297,-0.00810609332811188,0.04960382558403366,-0.014289844970848111,0.055872128991723384,-0.019668840691520386,0.5606637627484453],[0.17735438864391687,0.05353185497960593,0.014259468566431947,0.2734580986427702,-0.06076932676159483,0.2426559102410641,0.1833306117185349,0.20144394692967832,0.004262424384486936,-0.032147837468965886,-0.04111753014455172,-0.04880373863521248,-0.11991590879396136,0.6097073002717436,-0.02708004931716945,0.4157716361052652,-0.030904959142533293,-0.012339900052275487,0.13638058874914522,1.0,0.22665148415094508,-0.06826254889694101,0.3434148575409178,0.20364850809521917,0.19678517580586272,0.21917815216716094,0.1635493640166073,0.10808030267536337,0.19974014751279254,-0.09531652573608992,-0.0049724884173161,0.0724258451703809,0.0223814980554099,0.0012901448492839542,-0.009049888212650292,-0.010268668868105917,0.28410767559478256],[-0.02343802846062706,0.263169915881059,0.11968990815131542,0.1016763562417855,0.012980060094550628,-0.07065121690473103,-0.040580928067749454,0.10282115127801787,-0.10735467682307034,-0.015728113626581035,0.16664331698696289,0.05044995551267818,0.12740074939236454,0.5029006133459056,0.10560656854090526,0.5212695109189948,-0.15067280920795623,0.046518848389950684,0.36325198302327694,0.22665148415094508,1.0,0.1985967577071338,0.676619935742649,0.10756968099132388,-0.06451843698438452,0.08610643768835287,0.06525252989881626,0.04685377306989394,0.09380957160591452,0.04157043451959824,-0.02447779636611455,0.044299691127134826,0.07070258356547471,0.007766971998717607,0.04654385993628238,-0.03601389283370446,0.16821315430073963],[0.2817210402648814,-0.0060688301613090875,-0.017783870504841995,-0.18388223454922156,-0.08700085543638039,-0.17480024561497706,-0.14959752104274646,-0.03761025181986861,-0.08100685077857439,-0.04075123644840764,0.030085868314000126,-0.06890064264201659,0.06810058817691335,0.05930575264821624,0.007521744344233734,0.10006316473775474,-0.041502546431482885,-0.03794435022720086,0.1331152141960393,-0.06826254889694101,0.1985967577071338,1.0,0.2560454085359489,-0.12393623529689729,-0.12441140157001684,-0.05063389240221729,-0.06443304718314395,-0.09013027267903444,-0.07009060989258609,0.03731238503296963,-0.024600358690531954,-0.05161336606147979,-0.014525116015980777,0.062340724004379115,0.026588907230915452,0.031687206500669154,-0.13590737084214105],[0.04038006478367613,0.3520959476602243,0.190014777625409,0.42745234327798975,-0.057583166112865375,0.09558912829795185,0.1917398162928069,0.2806816946085068,0.044315623912920654,-0.03522654794752336,0.25064706137624926,0.28557256372579454,0.40951597886683183,0.6164226354915431,0.13118477598954745,0.8254893743088425,-0.0532752361233972,-0.023836341262220544,0.5547842535334836,0.3434148575409178,0.676619935742649,0.2560454085359489,1.0,0.3261144801772001,0.1481117155859651,0.3622885708147746,0.33782212063683786,0.16598388371493233,0.2341915878315988,0.004151299023856323,-0.006683241010939702,0.059382599559410935,0.0837573495149245,0.024762884163584138,0.036907077159844405,-0.03451635430218269,0.5337231555820284],[-0.04556934027456939,0.26663948256030306,0.2713640096245418,0.39676503795208906,-0.02381997776166212,0.14771639941245646,0.11258131843947561,0.24906961283714313,0.2600109202350403,0.04692070882601213,0.0515748822895418,0.33951932389865597,0.41053108465984556,0.19456089224132392,-0.02127214341393874,0.46167913376144704,0.1379277084271981,0.028975586646259963,0.2436705030799116,0.20364850809521917,0.10756968099132388,-0.12393623529689729,0.3261144801772001,1.0,0.04682164840190421,0.3007887663013562,0.2691412380738719,0.20001879575902368,0.16940532713120185,-0.02482186853706847,0.011257238992774959,0.18453026951684842,0.09507352203619863,0.0014086054430451757,0.04635710249771968,-0.024095564980725313,0.46692883675152763],[0.08507186950664718,0.0702497819166165,-0.02494741866564254,0.5477658448351629,-0.32429673252939795,0.8256674841743408,0.6422767797035356,0.2526907749903342,0.1534840980267781,-0.08801081541220088,0.19070827345893257,0.3224451736794739,0.23344909271486267,0.0708323397173792,-0.03636323404234127,0.23119674063336224,0.12455252442364974,-0.07746361238070294,0.4845573867195222,0.19678517580586272,-0.06451843698438452,-0.12441140157001684,0.1481117155859651,0.04682164840190421,1.0,0.5889200070047002,0.5645670607230577,0.22457699198793213,0.22842457877198022,-0.2970026030557314,0.023543689573665077,-0.07541751376190593,-0.01450067856370222,-0.032417457821261826,0.0053370257603695135,-0.0010142778712734348,0.4863616774878596],[-0.040109793135783604,0.2856909246851005,0.15487073975354076,0.6006707165907149,-0.18575751057836357,0.5378500917111052,0.42062215494321714,0.3642036400698656,0.22405352239399068,-0.038263512869251545,0.2141751897502169,0.43458483429168865,0.4393168079906709,0.18392558307638002,-0.09447952015593257,0.4672474187951873,0.13188122440619438,-0.02089105899687853,0.469672043267628,0.21917815216716094,0.08610643768835287,-0.05063389240221729,0.3622885708147746,0.3007887663013562,0.5889200070047002,1.0,0.882475414281462,0.2263421384698597,0.21356944558969115,-0.15143416002683724,0.035765285146453774,0.05049379192719834,0.020933531041465454,-0.04308012810223063,0.040521730128251755,-0.039116904112831495,0.6404091972583519],[-0.09867154319256435,0.3449967241064819,0.1804027551511169,0.5620217566126083,-0.15152137057022985,0.4789538198934904,0.3715998094973092,0.37306648160023664,0.2969703853445138,-0.018226591907316552,0.18330269774258412,0.4866654637737961,0.4897816541041918,0.13834695857186657,-0.06760141323952208,0.4689974773229655,0.179189480420231,-0.02453557957887923,0.4056562084540099,0.1635493640166073,0.06525252989881626,-0.06443304718314395,0.33782212063683786,0.2691412380738719,0.5645670607230577,0.882475414281462,1.0,0.2246663071787637,0.2414346721380881,-0.1217767195610043,0.03508670020815975,0.05141176244520852,0.061047271702060014,-0.02739991441262488,0.02797379982354057,-0.027377940418545084,0.6234314389183622],[-0.012579358249219592,0.0885209332894081,0.17169768725711246,0.23892339224918593,-0.0033336992893856225,0.22488014230399744,0.20572592049010355,0.15971813436595433,0.20430614523740265,0.06789832641361218,-0.005316424333062066,0.23201860912901803,0.23545862278369778,0.09216541758603868,-0.025443647988791077,0.24743282051884846,0.17531519007972224,0.04016122325953452,0.18770321383582822,0.10808030267536337,0.04685377306989394,-0.09013027267903444,0.16598388371493233,0.20001879575902368,0.22457699198793213,0.2263421384698597,0.2246663071787637,1.0,0.058660608565887375,-0.1259888880376007,-0.03277063359357436,-0.07418135123983237,0.07337820695645396,-0.009551228238372468,0.021011044294297315,0.022270451009253036,0.32441344456812926],[-0.006100121231942238,0.15197222768060642,0.08477380884021642,0.3088188233594523,-0.03258881352158505,0.188685840001731,0.22629763268298944,0.1257027966825031,0.11176061335675101,0.003092562209894399,0.12900541461542128,0.2472637462881078,0.2116712254979847,0.2080260631813579,0.018251039053999052,0.33022396171200064,0.06734146137698176,-0.02532375788905772,0.25997742546824865,0.19974014751279254,0.09380957160591452,-0.07009060989258609,0.2341915878315988,0.16940532713120185,0.22842457877198022,0.21356944558969115,0.2414346721380881,0.058660608565887375,1.0,-0.09307931750864903,-0.005842499340135753,0.07430394385024312,0.060762111489925795,-0.018583738987649336,0.07125488475868938,-0.057619360142091326,0.31585622711605504],[-0.012036621902094771,0.01070033663888244,-0.018339733672212328,-0.11393685859568162,0.07035618448230374,-0.3872677829280785,-0.1939191470992078,-0.11020383387243517,-0.10230330550073197,0.036543339448210164,-0.002537854589751547,-0.09547773670640776,-0.0652917009103091,0.06198869077325203,0.06108123777122687,0.009113210326003087,-0.049910649083753186,-0.008555333868578032,-0.11509296346134239,-0.09531652573608992,0.04157043451959824,0.03731238503296963,0.004151299023856323,-0.02482186853706847,-0.2970026030557314,-0.15143416002683724,-0.1217767195610043,-0.1259888880376007,-0.09307931750864903,1.0,-0.03730528278804611,-0.08286424483260343,0.05420256229213969,0.018360600139447715,-0.028887265707142493,-0.009915936955524396,-0.1285779579259566],[-0.04382454917560846,0.07002922773085365,0.020422829586133416,0.03037056713526452,0.025503660024132138,0.03135451306436603,0.045285809814976964,0.018795515294914033,0.026450506189898953,-0.029993397993921023,0.02076400569654798,0.03738372726300508,0.05610437448487508,-0.02435764842204794,-0.004295610410300094,0.020643189710186576,-0.00010609153998400853,0.035113630886772336,0.03535301658385297,-0.0049724884173161,-0.02447779636611455,-0.024600358690531954,-0.006683241010939702,0.011257238992774959,0.023543689573665077,0.035765285146453774,0.03508670020815975,-0.03277063359357436,-0.005842499340135753,-0.03730528278804611,1.0,-0.03143584703909575,-0.00799154887286895,0.00035396527793940183,0.02947379524994019,0.01864492540475066,0.04458366533574838],[-0.026030176699806666,0.04138279067500582,0.04316037769525204,0.06488636049351544,0.05481052878611526,-0.05036443453861205,-0.038740010742610125,0.06146554318732188,0.06202062266534991,0.08887125137339073,-0.012579273444256824,0.08448898591431157,0.08875807262015682,0.040606447641001006,0.02679941302177244,0.10151039568208567,0.023147725763573802,0.03212140720908338,-0.00810609332811188,0.0724258451703809,0.044299691127134826,-0.05161336606147979,0.059382599559410935,0.18453026951684842,-0.07541751376190593,0.05049379192719834,0.05141176244520852,-0.07418135123983237,0.07430394385024312,-0.08286424483260343,-0.03143584703909575,1.0,0.05130739451790554,0.03194576077490817,0.023216991793307076,0.01069410600377114,0.11144657114291112],[0.008282707579624416,0.2061667752760768,0.07767239188017444,0.06516584360589199,-0.0019849422681841354,0.004949727615942999,0.005829372037106204,0.01172306121326672,0.1404912862549568,0.041709054681333575,-0.035092240793657914,0.12605313210083768,0.13152497564028254,0.08148687804909954,0.06215737226918922,0.1702053360005616,0.06761555618047507,0.02002462983851695,0.04960382558403366,0.0223814980554099,0.07070258356547471,-0.014525116015980777,0.0837573495149245,0.09507352203619863,-0.01450067856370222,0.020933531041465454,0.061047271702060014,0.07337820695645396,0.060762111489925795,0.05420256229213969,-0.00799154887286895,0.05130739451790554,1.0,0.02966865085402175,-0.033736640262791315,-0.0596889316752469,0.09240354949187318],[-0.007683291329865976,0.003367556596191435,0.03806769201918336,-0.031406210500746504,0.0687768060572499,-0.03438313873672287,-0.010286248783081431,-0.02981539358527878,0.003571473474954695,0.004939781228437705,-0.023836645134507763,-0.018478922431472124,-0.021095719463122223,0.016196874604388505,-0.003792870779996453,-0.0024156395502935623,-0.02304702486861695,-0.007366524543625446,-0.014289844970848111,0.0012901448492839542,0.007766971998717607,0.062340724004379115,0.024762884163584138,0.0014086054430451757,-0.032417457821261826,-0.04308012810223063,-0.02739991441262488,-0.009551228238372468,-0.018583738987649336,0.018360600139447715,0.00035396527793940183,0.03194576077490817,0.02966865085402175,1.0,-0.006494550221282175,0.004906262452651876,-0.021189579640303213],[-0.013584643238322348,0.011199954759134238,0.0012049882225877268,0.07081517178517327,-0.003510838599939743,0.012398470595440986,0.02149000222687611,-0.005964715509114298,-0.015726948262154667,-0.015210737972006668,0.03488844300908206,0.013196178616778433,0.03137156035207926,0.035164427361791005,-0.02217396057953783,0.05023968081827284,-0.025360894315259907,0.03287270523409066,0.055872128991723384,-0.009049888212650292,0.04654385993628238,0.026588907230915452,0.036907077159844405,0.04635710249771968,0.0053370257603695135,0.040521730128251755,0.02797379982354057,0.021011044294297315,0.07125488475868938,-0.028887265707142493,0.02947379524994019,0.023216991793307076,-0.033736640262791315,-0.006494550221282175,1.0,-0.1457214126753949,0.046432245223819446],[-0.02140703785109821,0.007449589209750463,-0.01426140729855021,-0.027346708327825386,0.043949745692488544,-0.01361768000183213,0.03574324712127364,-0.008201030967080006,0.014358922393909302,0.03170563698487945,-0.04125819493876721,-0.014968648018762356,-0.01360377050464661,-0.02869991393529755,-0.028920879782296086,-0.03652581962473121,0.06704913767140361,-0.04652388177400862,-0.019668840691520386,-0.010268668868105917,-0.03601389283370446,0.031687206500669154,-0.03451635430218269,-0.024095564980725313,-0.0010142778712734348,-0.039116904112831495,-0.027377940418545084,0.022270451009253036,-0.057619360142091326,-0.009915936955524396,0.01864492540475066,0.01069410600377114,-0.0596889316752469,0.004906262452651876,-0.1457214126753949,1.0,-0.028922585168736813],[-0.08428413512659509,0.35179909657067737,0.2638433538714051,0.7909816005838053,-0.07785589404867797,0.5228973328794967,0.5071009671113866,0.47749304709571444,0.3864198062421535,-0.011378121450215146,0.21447910554696928,0.6135805515591943,0.6058521846919153,0.31933380283206736,-0.02560613000067955,0.7086244776126515,0.22712223313149427,-0.01684415429735895,0.5606637627484453,0.28410767559478256,0.16821315430073963,-0.13590737084214105,0.5337231555820284,0.46692883675152763,0.4863616774878596,0.6404091972583519,0.6234314389183622,0.32441344456812926,0.31585622711605504,-0.1285779579259566,0.04458366533574838,0.11144657114291112,0.09240354949187318,-0.021189579640303213,0.046432245223819446,-0.028922585168736813,1.0]]}],                        {\"coloraxis\":{\"colorscale\":[[0.0,\"#0d0887\"],[0.1111111111111111,\"#46039f\"],[0.2222222222222222,\"#7201a8\"],[0.3333333333333333,\"#9c179e\"],[0.4444444444444444,\"#bd3786\"],[0.5555555555555556,\"#d8576b\"],[0.6666666666666666,\"#ed7953\"],[0.7777777777777778,\"#fb9f3a\"],[0.8888888888888888,\"#fdca26\"],[1.0,\"#f0f921\"]]},\"height\":800,\"margin\":{\"t\":60},\"template\":{\"data\":{\"bar\":[{\"error_x\":{\"color\":\"#f2f5fa\"},\"error_y\":{\"color\":\"#f2f5fa\"},\"marker\":{\"line\":{\"color\":\"rgb(17,17,17)\",\"width\":0.5},\"pattern\":{\"fillmode\":\"overlay\",\"size\":10,\"solidity\":0.2}},\"type\":\"bar\"}],\"barpolar\":[{\"marker\":{\"line\":{\"color\":\"rgb(17,17,17)\",\"width\":0.5},\"pattern\":{\"fillmode\":\"overlay\",\"size\":10,\"solidity\":0.2}},\"type\":\"barpolar\"}],\"carpet\":[{\"aaxis\":{\"endlinecolor\":\"#A2B1C6\",\"gridcolor\":\"#506784\",\"linecolor\":\"#506784\",\"minorgridcolor\":\"#506784\",\"startlinecolor\":\"#A2B1C6\"},\"baxis\":{\"endlinecolor\":\"#A2B1C6\",\"gridcolor\":\"#506784\",\"linecolor\":\"#506784\",\"minorgridcolor\":\"#506784\",\"startlinecolor\":\"#A2B1C6\"},\"type\":\"carpet\"}],\"choropleth\":[{\"colorbar\":{\"outlinewidth\":0,\"ticks\":\"\"},\"type\":\"choropleth\"}],\"contour\":[{\"colorbar\":{\"outlinewidth\":0,\"ticks\":\"\"},\"colorscale\":[[0.0,\"#0d0887\"],[0.1111111111111111,\"#46039f\"],[0.2222222222222222,\"#7201a8\"],[0.3333333333333333,\"#9c179e\"],[0.4444444444444444,\"#bd3786\"],[0.5555555555555556,\"#d8576b\"],[0.6666666666666666,\"#ed7953\"],[0.7777777777777778,\"#fb9f3a\"],[0.8888888888888888,\"#fdca26\"],[1.0,\"#f0f921\"]],\"type\":\"contour\"}],\"contourcarpet\":[{\"colorbar\":{\"outlinewidth\":0,\"ticks\":\"\"},\"type\":\"contourcarpet\"}],\"heatmap\":[{\"colorbar\":{\"outlinewidth\":0,\"ticks\":\"\"},\"colorscale\":[[0.0,\"#0d0887\"],[0.1111111111111111,\"#46039f\"],[0.2222222222222222,\"#7201a8\"],[0.3333333333333333,\"#9c179e\"],[0.4444444444444444,\"#bd3786\"],[0.5555555555555556,\"#d8576b\"],[0.6666666666666666,\"#ed7953\"],[0.7777777777777778,\"#fb9f3a\"],[0.8888888888888888,\"#fdca26\"],[1.0,\"#f0f921\"]],\"type\":\"heatmap\"}],\"heatmapgl\":[{\"colorbar\":{\"outlinewidth\":0,\"ticks\":\"\"},\"colorscale\":[[0.0,\"#0d0887\"],[0.1111111111111111,\"#46039f\"],[0.2222222222222222,\"#7201a8\"],[0.3333333333333333,\"#9c179e\"],[0.4444444444444444,\"#bd3786\"],[0.5555555555555556,\"#d8576b\"],[0.6666666666666666,\"#ed7953\"],[0.7777777777777778,\"#fb9f3a\"],[0.8888888888888888,\"#fdca26\"],[1.0,\"#f0f921\"]],\"type\":\"heatmapgl\"}],\"histogram\":[{\"marker\":{\"pattern\":{\"fillmode\":\"overlay\",\"size\":10,\"solidity\":0.2}},\"type\":\"histogram\"}],\"histogram2d\":[{\"colorbar\":{\"outlinewidth\":0,\"ticks\":\"\"},\"colorscale\":[[0.0,\"#0d0887\"],[0.1111111111111111,\"#46039f\"],[0.2222222222222222,\"#7201a8\"],[0.3333333333333333,\"#9c179e\"],[0.4444444444444444,\"#bd3786\"],[0.5555555555555556,\"#d8576b\"],[0.6666666666666666,\"#ed7953\"],[0.7777777777777778,\"#fb9f3a\"],[0.8888888888888888,\"#fdca26\"],[1.0,\"#f0f921\"]],\"type\":\"histogram2d\"}],\"histogram2dcontour\":[{\"colorbar\":{\"outlinewidth\":0,\"ticks\":\"\"},\"colorscale\":[[0.0,\"#0d0887\"],[0.1111111111111111,\"#46039f\"],[0.2222222222222222,\"#7201a8\"],[0.3333333333333333,\"#9c179e\"],[0.4444444444444444,\"#bd3786\"],[0.5555555555555556,\"#d8576b\"],[0.6666666666666666,\"#ed7953\"],[0.7777777777777778,\"#fb9f3a\"],[0.8888888888888888,\"#fdca26\"],[1.0,\"#f0f921\"]],\"type\":\"histogram2dcontour\"}],\"mesh3d\":[{\"colorbar\":{\"outlinewidth\":0,\"ticks\":\"\"},\"type\":\"mesh3d\"}],\"parcoords\":[{\"line\":{\"colorbar\":{\"outlinewidth\":0,\"ticks\":\"\"}},\"type\":\"parcoords\"}],\"pie\":[{\"automargin\":true,\"type\":\"pie\"}],\"scatter\":[{\"marker\":{\"line\":{\"color\":\"#283442\"}},\"type\":\"scatter\"}],\"scatter3d\":[{\"line\":{\"colorbar\":{\"outlinewidth\":0,\"ticks\":\"\"}},\"marker\":{\"colorbar\":{\"outlinewidth\":0,\"ticks\":\"\"}},\"type\":\"scatter3d\"}],\"scattercarpet\":[{\"marker\":{\"colorbar\":{\"outlinewidth\":0,\"ticks\":\"\"}},\"type\":\"scattercarpet\"}],\"scattergeo\":[{\"marker\":{\"colorbar\":{\"outlinewidth\":0,\"ticks\":\"\"}},\"type\":\"scattergeo\"}],\"scattergl\":[{\"marker\":{\"line\":{\"color\":\"#283442\"}},\"type\":\"scattergl\"}],\"scattermapbox\":[{\"marker\":{\"colorbar\":{\"outlinewidth\":0,\"ticks\":\"\"}},\"type\":\"scattermapbox\"}],\"scatterpolar\":[{\"marker\":{\"colorbar\":{\"outlinewidth\":0,\"ticks\":\"\"}},\"type\":\"scatterpolar\"}],\"scatterpolargl\":[{\"marker\":{\"colorbar\":{\"outlinewidth\":0,\"ticks\":\"\"}},\"type\":\"scatterpolargl\"}],\"scatterternary\":[{\"marker\":{\"colorbar\":{\"outlinewidth\":0,\"ticks\":\"\"}},\"type\":\"scatterternary\"}],\"surface\":[{\"colorbar\":{\"outlinewidth\":0,\"ticks\":\"\"},\"colorscale\":[[0.0,\"#0d0887\"],[0.1111111111111111,\"#46039f\"],[0.2222222222222222,\"#7201a8\"],[0.3333333333333333,\"#9c179e\"],[0.4444444444444444,\"#bd3786\"],[0.5555555555555556,\"#d8576b\"],[0.6666666666666666,\"#ed7953\"],[0.7777777777777778,\"#fb9f3a\"],[0.8888888888888888,\"#fdca26\"],[1.0,\"#f0f921\"]],\"type\":\"surface\"}],\"table\":[{\"cells\":{\"fill\":{\"color\":\"#506784\"},\"line\":{\"color\":\"rgb(17,17,17)\"}},\"header\":{\"fill\":{\"color\":\"#2a3f5f\"},\"line\":{\"color\":\"rgb(17,17,17)\"}},\"type\":\"table\"}]},\"layout\":{\"annotationdefaults\":{\"arrowcolor\":\"#f2f5fa\",\"arrowhead\":0,\"arrowwidth\":1},\"autotypenumbers\":\"strict\",\"coloraxis\":{\"colorbar\":{\"outlinewidth\":0,\"ticks\":\"\"}},\"colorscale\":{\"diverging\":[[0,\"#8e0152\"],[0.1,\"#c51b7d\"],[0.2,\"#de77ae\"],[0.3,\"#f1b6da\"],[0.4,\"#fde0ef\"],[0.5,\"#f7f7f7\"],[0.6,\"#e6f5d0\"],[0.7,\"#b8e186\"],[0.8,\"#7fbc41\"],[0.9,\"#4d9221\"],[1,\"#276419\"]],\"sequential\":[[0.0,\"#0d0887\"],[0.1111111111111111,\"#46039f\"],[0.2222222222222222,\"#7201a8\"],[0.3333333333333333,\"#9c179e\"],[0.4444444444444444,\"#bd3786\"],[0.5555555555555556,\"#d8576b\"],[0.6666666666666666,\"#ed7953\"],[0.7777777777777778,\"#fb9f3a\"],[0.8888888888888888,\"#fdca26\"],[1.0,\"#f0f921\"]],\"sequentialminus\":[[0.0,\"#0d0887\"],[0.1111111111111111,\"#46039f\"],[0.2222222222222222,\"#7201a8\"],[0.3333333333333333,\"#9c179e\"],[0.4444444444444444,\"#bd3786\"],[0.5555555555555556,\"#d8576b\"],[0.6666666666666666,\"#ed7953\"],[0.7777777777777778,\"#fb9f3a\"],[0.8888888888888888,\"#fdca26\"],[1.0,\"#f0f921\"]]},\"colorway\":[\"#636efa\",\"#EF553B\",\"#00cc96\",\"#ab63fa\",\"#FFA15A\",\"#19d3f3\",\"#FF6692\",\"#B6E880\",\"#FF97FF\",\"#FECB52\"],\"font\":{\"color\":\"#f2f5fa\"},\"geo\":{\"bgcolor\":\"rgb(17,17,17)\",\"lakecolor\":\"rgb(17,17,17)\",\"landcolor\":\"rgb(17,17,17)\",\"showlakes\":true,\"showland\":true,\"subunitcolor\":\"#506784\"},\"hoverlabel\":{\"align\":\"left\"},\"hovermode\":\"closest\",\"mapbox\":{\"style\":\"dark\"},\"paper_bgcolor\":\"rgb(17,17,17)\",\"plot_bgcolor\":\"rgb(17,17,17)\",\"polar\":{\"angularaxis\":{\"gridcolor\":\"#506784\",\"linecolor\":\"#506784\",\"ticks\":\"\"},\"bgcolor\":\"rgb(17,17,17)\",\"radialaxis\":{\"gridcolor\":\"#506784\",\"linecolor\":\"#506784\",\"ticks\":\"\"}},\"scene\":{\"xaxis\":{\"backgroundcolor\":\"rgb(17,17,17)\",\"gridcolor\":\"#506784\",\"gridwidth\":2,\"linecolor\":\"#506784\",\"showbackground\":true,\"ticks\":\"\",\"zerolinecolor\":\"#C8D4E3\"},\"yaxis\":{\"backgroundcolor\":\"rgb(17,17,17)\",\"gridcolor\":\"#506784\",\"gridwidth\":2,\"linecolor\":\"#506784\",\"showbackground\":true,\"ticks\":\"\",\"zerolinecolor\":\"#C8D4E3\"},\"zaxis\":{\"backgroundcolor\":\"rgb(17,17,17)\",\"gridcolor\":\"#506784\",\"gridwidth\":2,\"linecolor\":\"#506784\",\"showbackground\":true,\"ticks\":\"\",\"zerolinecolor\":\"#C8D4E3\"}},\"shapedefaults\":{\"line\":{\"color\":\"#f2f5fa\"}},\"sliderdefaults\":{\"bgcolor\":\"#C8D4E3\",\"bordercolor\":\"rgb(17,17,17)\",\"borderwidth\":1,\"tickwidth\":0},\"ternary\":{\"aaxis\":{\"gridcolor\":\"#506784\",\"linecolor\":\"#506784\",\"ticks\":\"\"},\"baxis\":{\"gridcolor\":\"#506784\",\"linecolor\":\"#506784\",\"ticks\":\"\"},\"bgcolor\":\"rgb(17,17,17)\",\"caxis\":{\"gridcolor\":\"#506784\",\"linecolor\":\"#506784\",\"ticks\":\"\"}},\"title\":{\"x\":0.05},\"updatemenudefaults\":{\"bgcolor\":\"#506784\",\"borderwidth\":0},\"xaxis\":{\"automargin\":true,\"gridcolor\":\"#283442\",\"linecolor\":\"#506784\",\"ticks\":\"\",\"title\":{\"standoff\":15},\"zerolinecolor\":\"#283442\",\"zerolinewidth\":2},\"yaxis\":{\"automargin\":true,\"gridcolor\":\"#283442\",\"linecolor\":\"#506784\",\"ticks\":\"\",\"title\":{\"standoff\":15},\"zerolinecolor\":\"#283442\",\"zerolinewidth\":2}}},\"width\":800,\"xaxis\":{\"anchor\":\"y\",\"constrain\":\"domain\",\"domain\":[0.0,1.0],\"scaleanchor\":\"y\"},\"yaxis\":{\"anchor\":\"x\",\"autorange\":\"reversed\",\"constrain\":\"domain\",\"domain\":[0.0,1.0]}},                        {\"responsive\": true}                    ).then(function(){\n",
       "                            \n",
       "var gd = document.getElementById('9f0cf00b-71f5-44ea-b52a-4866df320f4e');\n",
       "var x = new MutationObserver(function (mutations, observer) {{\n",
       "        var display = window.getComputedStyle(gd).display;\n",
       "        if (!display || display === 'none') {{\n",
       "            console.log([gd, 'removed!']);\n",
       "            Plotly.purge(gd);\n",
       "            observer.disconnect();\n",
       "        }}\n",
       "}});\n",
       "\n",
       "// Listen for the removal of the full notebook cells\n",
       "var notebookContainer = gd.closest('#notebook-container');\n",
       "if (notebookContainer) {{\n",
       "    x.observe(notebookContainer, {childList: true});\n",
       "}}\n",
       "\n",
       "// Listen for the clearing of the current output cell\n",
       "var outputEl = gd.closest('.output');\n",
       "if (outputEl) {{\n",
       "    x.observe(outputEl, {childList: true});\n",
       "}}\n",
       "\n",
       "                        })                };                });            </script>        </div>"
      ]
     },
     "metadata": {},
     "output_type": "display_data"
    }
   ],
   "source": [
    "#create another plot to shosw how each feature is correlated to one another\n",
    "#highly correlated features can be removed\n",
    "corr = training_set.corr()\n",
    "px.imshow(corr,\n",
    "         template = 'plotly_dark',\n",
    "         height = 800, width = 800)"
   ]
  },
  {
   "cell_type": "code",
   "execution_count": 132,
   "id": "bfcd11e8",
   "metadata": {},
   "outputs": [
    {
     "data": {
      "image/png": "[encoded data removed]",
      "text/plain": [
       "<Figure size 1800x1440 with 42 Axes>"
      ]
     },
     "metadata": {
      "needs_background": "light"
     },
     "output_type": "display_data"
    }
   ],
   "source": [
    "#plot histograms for each feature\n",
    "_ = training_set.hist(bins = 50, figsize = (25,20))"
   ]
  },
  {
   "cell_type": "code",
   "execution_count": 133,
   "id": "3c0543a9",
   "metadata": {
    "scrolled": false
   },
   "outputs": [],
   "source": [
    "#create new features\n",
    "for sets in training_set, testing_set:\n",
    "    sets['baths_per_sf'] = sets['1stFlrSF'] / (sets['FullBath'] + sets['HalfBath'])\n",
    "    sets['remodeled'] = sets['BsmtFinSF2'].apply(lambda x: 1 if x != 0 else x)\n",
    "    sets['has_fireplace'] = sets['Fireplaces'].apply(lambda x: 1 if x != 0 else x)\n",
    "    sets['has_porch'] = sets['OpenPorchSF'].apply(lambda x: 1 if x != 0 else x)\n",
    "    sets['has_2nd_story'] = sets['2ndFlrSF'].apply(lambda x: 1 if x != 0 else x)\n",
    "    sets['has_garage'] = sets['GarageArea'].apply(lambda x: 1 if x != 0 else x)\n",
    "\n",
    "    #binarize these features in place \n",
    "    for col in ['BsmtFinSF2','EnclosedPorch','3SsnPorch','ScreenPorch','PoolArea']:\n",
    "        sets[col] = sets[col].apply(lambda x: 1 if x != 0 else x)\n",
    "        \n",
    "    #replace inf and na values with 0\n",
    "    sets.replace([np.inf, -np.inf], 0, inplace=True)\n",
    "    sets.fillna(0, inplace=True)"
   ]
  },
  {
   "cell_type": "code",
   "execution_count": 134,
   "id": "23f9ac20",
   "metadata": {
    "execution": {
     "iopub.execute_input": "2021-10-21T05:44:44.582027Z",
     "iopub.status.busy": "2021-10-21T05:44:44.581140Z",
     "iopub.status.idle": "2021-10-21T05:44:44.585365Z",
     "shell.execute_reply": "2021-10-21T05:44:44.584715Z",
     "shell.execute_reply.started": "2021-10-20T22:24:00.280495Z"
    },
    "papermill": {
     "duration": 0.04436,
     "end_time": "2021-10-21T05:44:44.585517",
     "exception": false,
     "start_time": "2021-10-21T05:44:44.541157",
     "status": "completed"
    },
    "tags": []
   },
   "outputs": [],
   "source": [
    "processed_path = data_path + \"processed/\"\n",
    "#seperate our features and target into X and y \n",
    "y = training_set['SalePrice']\n",
    "training_set.drop(['SalePrice'], axis=1, inplace=True)\n",
    "X = training_set\n",
    "#save the processed data\n",
    "X.to_csv(processed_path + 'X.csv')\n",
    "np.save(processed_path + 'y.npy',y)\n",
    "testing_set.to_csv(processed_path + 'testing_set.csv', index = 'Id')"
   ]
  }
 ],
 "metadata": {
  "kernelspec": {
   "display_name": "Python 3 (ipykernel)",
   "language": "python",
   "name": "python3"
  },
  "language_info": {
   "codemirror_mode": {
    "name": "ipython",
    "version": 3
   },
   "file_extension": ".py",
   "mimetype": "text/x-python",
   "name": "python",
   "nbconvert_exporter": "python",
   "pygments_lexer": "ipython3",
   "version": "3.9.5"
  },
  "papermill": {
   "default_parameters": {},
   "duration": 11439.883406,
   "end_time": "2021-10-21T08:55:02.186254",
   "environment_variables": {},
   "exception": true,
   "input_path": "__notebook__.ipynb",
   "output_path": "__notebook__.ipynb",
   "parameters": {},
   "start_time": "2021-10-21T05:44:22.302848",
   "version": "2.3.3"
  },
  "toc": {
   "base_numbering": 1,
   "nav_menu": {},
   "number_sections": false,
   "sideBar": true,
   "skip_h1_title": false,
   "title_cell": "Table of Contents",
   "title_sidebar": "Contents",
   "toc_cell": true,
   "toc_position": {},
   "toc_section_display": true,
   "toc_window_display": true
  }
 },
 "nbformat": 4,
 "nbformat_minor": 5
}

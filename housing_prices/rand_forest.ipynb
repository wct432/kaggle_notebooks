{
 "cells": [
  {
   "cell_type": "markdown",
   "id": "4fbaaef3",
   "metadata": {
    "toc": true
   },
   "source": [
    "<h1>Table of Contents<span class=\"tocSkip\"></span></h1>\n",
    "<div class=\"toc\"><ul class=\"toc-item\"></ul></div>"
   ]
  },
  {
   "cell_type": "code",
   "execution_count": 2,
   "id": "c87de194",
   "metadata": {
    "_cell_guid": "b1076dfc-b9ad-4769-8c92-a6c4dae69d19",
    "_uuid": "8f2839f25d086af736a60e9eeb907d3b93b6e0e5",
    "execution": {
     "iopub.execute_input": "2021-10-21T05:44:30.566645Z",
     "iopub.status.busy": "2021-10-21T05:44:30.558501Z",
     "iopub.status.idle": "2021-10-21T05:44:33.439893Z",
     "shell.execute_reply": "2021-10-21T05:44:33.439039Z",
     "shell.execute_reply.started": "2021-10-21T05:41:57.877467Z"
    },
    "papermill": {
     "duration": 2.919449,
     "end_time": "2021-10-21T05:44:33.440079",
     "exception": false,
     "start_time": "2021-10-21T05:44:30.520630",
     "status": "completed"
    },
    "tags": []
   },
   "outputs": [],
   "source": [
    "import matplotlib.pyplot as plt\n",
    "import numpy as np \n",
    "import os\n",
    "import pandas as pd \n",
    "import pickle\n",
    "import seaborn as sns\n",
    "from sklearn.pipeline import Pipeline\n",
    "from sklearn.impute import SimpleImputer\n",
    "from sklearn.preprocessing import StandardScaler, OneHotEncoder, QuantileTransformer\n",
    "from sklearn.compose import ColumnTransformer\n",
    "from sklearn.ensemble import RandomForestRegressor\n",
    "from sklearn.model_selection import train_test_split, RandomizedSearchCV, GridSearchCV\n",
    "from sklearn.metrics import mean_squared_error,mean_absolute_error"
   ]
  },
  {
   "cell_type": "code",
   "execution_count": 28,
   "id": "a74df5e7",
   "metadata": {},
   "outputs": [],
   "source": [
    "working_dir = os.getcwd()\n",
    "data_path = working_dir + '/data/'\n",
    "processed_path = data_path + 'processed/'\n",
    "model_path = working_dir + \"/models/\""
   ]
  },
  {
   "cell_type": "code",
   "execution_count": 41,
   "id": "d3474e69",
   "metadata": {
    "execution": {
     "iopub.execute_input": "2021-10-21T05:44:33.492675Z",
     "iopub.status.busy": "2021-10-21T05:44:33.491818Z",
     "iopub.status.idle": "2021-10-21T05:44:33.585168Z",
     "shell.execute_reply": "2021-10-21T05:44:33.584479Z",
     "shell.execute_reply.started": "2021-10-21T05:42:06.621316Z"
    },
    "papermill": {
     "duration": 0.121338,
     "end_time": "2021-10-21T05:44:33.585340",
     "exception": false,
     "start_time": "2021-10-21T05:44:33.464002",
     "status": "completed"
    },
    "tags": []
   },
   "outputs": [],
   "source": [
    "#load our training and testing data\n",
    "X = pd.read_csv(processed_path + 'X.csv', index_col='Id')\n",
    "y = np.load(processed_path + 'y.npy')\n",
    "testing_set = pd.read_csv(processed_path + \"testing_set.csv\", index_col='Id')"
   ]
  },
  {
   "cell_type": "code",
   "execution_count": 42,
   "id": "584f35b1",
   "metadata": {},
   "outputs": [
    {
     "data": {
      "text/plain": [
       "(1460, 85)"
      ]
     },
     "execution_count": 42,
     "metadata": {},
     "output_type": "execute_result"
    }
   ],
   "source": [
    "X.shape"
   ]
  },
  {
   "cell_type": "code",
   "execution_count": 43,
   "id": "933d4651",
   "metadata": {},
   "outputs": [
    {
     "data": {
      "text/plain": [
       "(1460,)"
      ]
     },
     "execution_count": 43,
     "metadata": {},
     "output_type": "execute_result"
    }
   ],
   "source": [
    "y.shape"
   ]
  },
  {
   "cell_type": "code",
   "execution_count": 48,
   "id": "e54c9c98",
   "metadata": {},
   "outputs": [
    {
     "data": {
      "text/plain": [
       "(1459, 310)"
      ]
     },
     "execution_count": 48,
     "metadata": {},
     "output_type": "execute_result"
    }
   ],
   "source": [
    "testing_set.shape"
   ]
  },
  {
   "cell_type": "code",
   "execution_count": 49,
   "id": "a72e9df6",
   "metadata": {},
   "outputs": [
    {
     "data": {
      "text/plain": [
       "<1459x310 sparse matrix of type '<class 'numpy.float64'>'\n",
       "\twith 124003 stored elements in Compressed Sparse Row format>"
      ]
     },
     "execution_count": 49,
     "metadata": {},
     "output_type": "execute_result"
    }
   ],
   "source": [
    "testing_set"
   ]
  },
  {
   "cell_type": "code",
   "execution_count": 7,
   "id": "06bb504d",
   "metadata": {
    "execution": {
     "iopub.execute_input": "2021-10-21T05:44:44.661378Z",
     "iopub.status.busy": "2021-10-21T05:44:44.659986Z",
     "iopub.status.idle": "2021-10-21T05:44:44.665552Z",
     "shell.execute_reply": "2021-10-21T05:44:44.666034Z",
     "shell.execute_reply.started": "2021-10-20T23:06:19.406371Z"
    },
    "papermill": {
     "duration": 0.046414,
     "end_time": "2021-10-21T05:44:44.666212",
     "exception": false,
     "start_time": "2021-10-21T05:44:44.619798",
     "status": "completed"
    },
    "tags": []
   },
   "outputs": [],
   "source": [
    "#split train and test sets, validation set not needed as we will be using RandomSearchCV\n",
    "X_train, X_test, y_train, y_test = train_test_split(X, y, train_size = 0.8,\n",
    "                                                      test_size=0.2, random_state = 42)"
   ]
  },
  {
   "cell_type": "code",
   "execution_count": 47,
   "id": "300ccec1",
   "metadata": {},
   "outputs": [],
   "source": [
    "testing_set = preprocessor.transform(testing_set)"
   ]
  },
  {
   "cell_type": "code",
   "execution_count": 46,
   "id": "8d02dc07",
   "metadata": {},
   "outputs": [],
   "source": [
    "X = preprocessor.fit_transform(X)"
   ]
  },
  {
   "cell_type": "code",
   "execution_count": 45,
   "id": "ae3079c9",
   "metadata": {
    "execution": {
     "iopub.execute_input": "2021-10-21T05:44:44.747779Z",
     "iopub.status.busy": "2021-10-21T05:44:44.746815Z",
     "iopub.status.idle": "2021-10-21T05:44:44.750077Z",
     "shell.execute_reply": "2021-10-21T05:44:44.749530Z",
     "shell.execute_reply.started": "2021-10-20T22:24:11.599080Z"
    },
    "papermill": {
     "duration": 0.049082,
     "end_time": "2021-10-21T05:44:44.750217",
     "exception": false,
     "start_time": "2021-10-21T05:44:44.701135",
     "status": "completed"
    },
    "tags": []
   },
   "outputs": [],
   "source": [
    "#NUMERICAL PIPELINE\n",
    "num_cols = X.select_dtypes(exclude=\"object\").columns\n",
    "num_transformer = Pipeline(steps=[\n",
    "    ('imputer', SimpleImputer(strategy='constant')),\n",
    "    ('quantile_transformer', QuantileTransformer(output_distribution='normal',\n",
    "                                                 n_quantiles=700,\n",
    "                                                random_state=42))\n",
    "])\n",
    "\n",
    "#CATEGORICAL PIPELINE\n",
    "cat_cols = X.select_dtypes(include=\"object\").columns\n",
    "cat_transformer = Pipeline(steps=[\n",
    "    ('imputer', SimpleImputer(strategy='constant')),\n",
    "    ('encoder', OneHotEncoder(handle_unknown='ignore'))])\n",
    "\n",
    "#PREPROCESSOR\n",
    "preprocessor = ColumnTransformer([\n",
    "    ('numerical', num_transformer, num_cols),\n",
    "    ('categorical', cat_transformer, cat_cols),\n",
    "])"
   ]
  },
  {
   "cell_type": "code",
   "execution_count": 19,
   "id": "fececf7d",
   "metadata": {},
   "outputs": [
    {
     "data": {
      "text/plain": [
       "ColumnTransformer(transformers=[('numerical',\n",
       "                                 Pipeline(steps=[('imputer',\n",
       "                                                  SimpleImputer(strategy='constant')),\n",
       "                                                 ('quantile_transformer',\n",
       "                                                  QuantileTransformer(n_quantiles=700,\n",
       "                                                                      output_distribution='normal',\n",
       "                                                                      random_state=42))]),\n",
       "                                 Index(['MSSubClass', 'LotFrontage', 'LotArea', 'OverallQual', 'OverallCond',\n",
       "       'YearBuilt', 'YearRemodAdd', 'MasVnrArea', 'BsmtFinSF1', 'BsmtFin...\n",
       "       'Exterior2nd', 'MasVnrType', 'ExterQual', 'ExterCond', 'Foundation',\n",
       "       'BsmtQual', 'BsmtCond', 'BsmtExposure', 'BsmtFinType1', 'BsmtFinType2',\n",
       "       'Heating', 'HeatingQC', 'CentralAir', 'Electrical', 'KitchenQual',\n",
       "       'Functional', 'FireplaceQu', 'GarageType', 'GarageFinish', 'GarageQual',\n",
       "       'GarageCond', 'PavedDrive', 'PoolQC', 'Fence', 'MiscFeature',\n",
       "       'SaleType', 'SaleCondition'],\n",
       "      dtype='object'))])"
      ]
     },
     "execution_count": 19,
     "metadata": {},
     "output_type": "execute_result"
    }
   ],
   "source": [
    "#the preprocessor will transform our data by \n",
    "#    - filling missing values with the mean\n",
    "#    - normalizing the distribution\n",
    "#    - One Hot Encoding categorical features\n",
    "preprocessor"
   ]
  },
  {
   "cell_type": "code",
   "execution_count": 38,
   "id": "27fe4a75",
   "metadata": {},
   "outputs": [],
   "source": [
    "#save our preprocessor in our /models directory\n",
    "with open(model_path + f'preprocess_pipeline.h5', 'wb') as f:\n",
    "        pickle.dump(preprocessor, f)"
   ]
  },
  {
   "cell_type": "code",
   "execution_count": 165,
   "id": "4564158d",
   "metadata": {
    "execution": {
     "iopub.execute_input": "2021-10-21T05:44:44.823858Z",
     "iopub.status.busy": "2021-10-21T05:44:44.823207Z",
     "iopub.status.idle": "2021-10-21T05:44:44.825483Z",
     "shell.execute_reply": "2021-10-21T05:44:44.826102Z",
     "shell.execute_reply.started": "2021-10-20T22:24:14.673332Z"
    },
    "papermill": {
     "duration": 0.041715,
     "end_time": "2021-10-21T05:44:44.826281",
     "exception": false,
     "start_time": "2021-10-21T05:44:44.784566",
     "status": "completed"
    },
    "tags": []
   },
   "outputs": [],
   "source": [
    "#DEFINE THE BASE MODEL\n",
    "rf_model = Pipeline(steps=[('preprocessor', preprocessor),\n",
    "                      ('model', RandomForestRegressor(random_state = 42))])"
   ]
  },
  {
   "cell_type": "code",
   "execution_count": 140,
   "id": "d148ad7c",
   "metadata": {
    "execution": {
     "iopub.execute_input": "2021-10-21T05:44:44.897941Z",
     "iopub.status.busy": "2021-10-21T05:44:44.897317Z",
     "iopub.status.idle": "2021-10-21T05:44:44.903239Z",
     "shell.execute_reply": "2021-10-21T05:44:44.903791Z",
     "shell.execute_reply.started": "2021-10-20T22:24:46.377099Z"
    },
    "papermill": {
     "duration": 0.043398,
     "end_time": "2021-10-21T05:44:44.903978",
     "exception": false,
     "start_time": "2021-10-21T05:44:44.860580",
     "status": "completed"
    },
    "tags": []
   },
   "outputs": [],
   "source": [
    "#define model param grid for our randomized CV search\n",
    "\n",
    "rand_search_params = {\n",
    "                         'model__max_depth': [10, 20, 30, 40, 50, 60, 70, 80, 90, 100, 200, 400],\n",
    "                         'model__max_features': ['auto', 'sqrt'],\n",
    "                         'model__min_samples_leaf': [1, 2, 4, 8, 10],\n",
    "                         'model__min_samples_split': [2, 5, 10, 12],\n",
    "                         'model__n_estimators': [100, 200, 400, 600, 800, 1000, 1200, 1400, 1600, 1800, 2000]\n",
    "                    }"
   ]
  },
  {
   "cell_type": "code",
   "execution_count": 141,
   "id": "f8139f36",
   "metadata": {
    "execution": {
     "iopub.execute_input": "2021-10-21T05:44:44.975699Z",
     "iopub.status.busy": "2021-10-21T05:44:44.975042Z",
     "iopub.status.idle": "2021-10-21T06:23:16.811161Z",
     "shell.execute_reply": "2021-10-21T06:23:16.811680Z",
     "shell.execute_reply.started": "2021-10-20T22:24:52.128779Z"
    },
    "papermill": {
     "duration": 2311.873569,
     "end_time": "2021-10-21T06:23:16.811864",
     "exception": false,
     "start_time": "2021-10-21T05:44:44.938295",
     "status": "completed"
    },
    "tags": []
   },
   "outputs": [
    {
     "name": "stdout",
     "output_type": "stream",
     "text": [
      "Fitting 5 folds for each of 100 candidates, totalling 500 fits\n"
     ]
    },
    {
     "data": {
      "text/plain": [
       "RandomizedSearchCV(cv=5,\n",
       "                   estimator=Pipeline(steps=[('preprocessor',\n",
       "                                              ColumnTransformer(transformers=[('numerical',\n",
       "                                                                               Pipeline(steps=[('imputer',\n",
       "                                                                                                SimpleImputer(strategy='constant')),\n",
       "                                                                                               ('quantile_transformer',\n",
       "                                                                                                QuantileTransformer(n_quantiles=700,\n",
       "                                                                                                                    output_distribution='normal',\n",
       "                                                                                                                    random_state=42))]),\n",
       "                                                                               Index(['MSSubClass', 'LotFrontage', 'LotArea', 'OverallQual', 'OverallC...\n",
       "                                              RandomForestRegressor(random_state=42))]),\n",
       "                   n_iter=100, n_jobs=-1,\n",
       "                   param_distributions={'model__max_depth': [10, 20, 30, 40, 50,\n",
       "                                                             60, 70, 80, 90,\n",
       "                                                             100, 200, 400],\n",
       "                                        'model__max_features': ['auto', 'sqrt'],\n",
       "                                        'model__min_samples_leaf': [1, 2, 4, 8,\n",
       "                                                                    10],\n",
       "                                        'model__min_samples_split': [2, 5, 10,\n",
       "                                                                     12],\n",
       "                                        'model__n_estimators': [100, 200, 400,\n",
       "                                                                600, 800, 1000,\n",
       "                                                                1200, 1400,\n",
       "                                                                1600, 1800,\n",
       "                                                                2000]},\n",
       "                   random_state=42, verbose=2)"
      ]
     },
     "execution_count": 141,
     "metadata": {},
     "output_type": "execute_result"
    }
   ],
   "source": [
    "#use the random grid search to explore the hyperparemeter space\n",
    "#we will further tune these hyperparams using a GridSearch\n",
    "rf_random = RandomizedSearchCV(estimator = rf_model, param_distributions = rand_search_params, \n",
    "                               n_iter = 100, cv = 5, verbose=2, random_state=42, n_jobs = -1)\n",
    "#fit random search using 5 fold cross validation\n",
    "rf_random.fit(X_train, y_train)"
   ]
  },
  {
   "cell_type": "code",
   "execution_count": 142,
   "id": "5454bf8e",
   "metadata": {
    "execution": {
     "iopub.execute_input": "2021-10-21T06:23:16.888530Z",
     "iopub.status.busy": "2021-10-21T06:23:16.887510Z",
     "iopub.status.idle": "2021-10-21T06:23:16.893637Z",
     "shell.execute_reply": "2021-10-21T06:23:16.894307Z",
     "shell.execute_reply.started": "2021-10-20T23:03:47.611906Z"
    },
    "papermill": {
     "duration": 0.046477,
     "end_time": "2021-10-21T06:23:16.894488",
     "exception": false,
     "start_time": "2021-10-21T06:23:16.848011",
     "status": "completed"
    },
    "tags": []
   },
   "outputs": [
    {
     "data": {
      "text/plain": [
       "{'model__n_estimators': 1400,\n",
       " 'model__min_samples_split': 5,\n",
       " 'model__min_samples_leaf': 2,\n",
       " 'model__max_features': 'auto',\n",
       " 'model__max_depth': 50}"
      ]
     },
     "execution_count": 142,
     "metadata": {},
     "output_type": "execute_result"
    }
   ],
   "source": [
    "#print best params\n",
    "rf_random.best_params_"
   ]
  },
  {
   "cell_type": "code",
   "execution_count": 176,
   "id": "b5693905",
   "metadata": {
    "execution": {
     "iopub.execute_input": "2021-10-21T06:23:16.970818Z",
     "iopub.status.busy": "2021-10-21T06:23:16.969873Z",
     "iopub.status.idle": "2021-10-21T06:23:16.976643Z",
     "shell.execute_reply": "2021-10-21T06:23:16.977198Z",
     "shell.execute_reply.started": "2021-10-20T23:07:06.266606Z"
    },
    "papermill": {
     "duration": 0.046581,
     "end_time": "2021-10-21T06:23:16.977367",
     "exception": false,
     "start_time": "2021-10-21T06:23:16.930786",
     "status": "completed"
    },
    "tags": []
   },
   "outputs": [],
   "source": [
    "#define a function evaluate our model by computing the  accuracy, root mean square error, and mean absolute error\n",
    "def evaluate(model, test_features, test_labels):\n",
    "    predictions = model.predict(test_features)\n",
    "    rmse = mean_squared_error(predictions, test_labels, squared = False)\n",
    "    mae = mean_absolute_error(predictions, test_labels)\n",
    "    print('Model Performance')\n",
    "    print('RMSE = {:0.4f}.'.format(rmse))\n",
    "    print('Mean Absolute Error = {:0.4f}.'.format(mae))\n",
    "    \n",
    "    return rmse"
   ]
  },
  {
   "cell_type": "code",
   "execution_count": 177,
   "id": "9a41e0a4",
   "metadata": {
    "execution": {
     "iopub.execute_input": "2021-10-21T06:23:17.054388Z",
     "iopub.status.busy": "2021-10-21T06:23:17.053391Z",
     "iopub.status.idle": "2021-10-21T06:23:27.389330Z",
     "shell.execute_reply": "2021-10-21T06:23:27.388730Z",
     "shell.execute_reply.started": "2021-10-20T23:08:25.665244Z"
    },
    "papermill": {
     "duration": 10.375925,
     "end_time": "2021-10-21T06:23:27.389499",
     "exception": false,
     "start_time": "2021-10-21T06:23:17.013574",
     "status": "completed"
    },
    "tags": []
   },
   "outputs": [
    {
     "name": "stdout",
     "output_type": "stream",
     "text": [
      "Model Performance\n",
      "RMSE = 29259.2885.\n",
      "Mean Absolute Error = 17491.2912.\n"
     ]
    }
   ],
   "source": [
    "#now evaluate the performance of our model on the testing data\n",
    "best_random = rf_random.best_estimator_\n",
    "random_accuracy = evaluate(best_random, X_test, y_test)"
   ]
  },
  {
   "cell_type": "code",
   "execution_count": 166,
   "id": "34d67905",
   "metadata": {
    "execution": {
     "iopub.execute_input": "2021-10-21T06:23:27.468123Z",
     "iopub.status.busy": "2021-10-21T06:23:27.467393Z",
     "iopub.status.idle": "2021-10-21T06:23:27.472388Z",
     "shell.execute_reply": "2021-10-21T06:23:27.472899Z",
     "shell.execute_reply.started": "2021-10-20T23:22:10.096683Z"
    },
    "papermill": {
     "duration": 0.046245,
     "end_time": "2021-10-21T06:23:27.473096",
     "exception": false,
     "start_time": "2021-10-21T06:23:27.426851",
     "status": "completed"
    },
    "tags": []
   },
   "outputs": [],
   "source": [
    "#now we will use a GridSearch CV to further tune the best hyperparameters found in the RandomSearch\n",
    "grid_search_params = { \n",
    "                     'model__n_estimators': [1000,1200,1300,1400,1500,1600,1800],\n",
    "                     'model__min_samples_split': [3,5,7],\n",
    "                     'model__min_samples_leaf': [2,3,5],\n",
    "                     'model__max_features': ['auto'],\n",
    "                     'model__max_depth': [40,45,50,55,60],\n",
    "                     }"
   ]
  },
  {
   "cell_type": "code",
   "execution_count": 167,
   "id": "c825abd1",
   "metadata": {
    "execution": {
     "iopub.execute_input": "2021-10-21T06:23:27.551586Z",
     "iopub.status.busy": "2021-10-21T06:23:27.550798Z",
     "iopub.status.idle": "2021-10-21T08:54:59.258745Z",
     "shell.execute_reply": "2021-10-21T08:54:59.259287Z",
     "shell.execute_reply.started": "2021-10-20T23:22:27.792865Z"
    },
    "papermill": {
     "duration": 9091.748821,
     "end_time": "2021-10-21T08:54:59.259481",
     "exception": false,
     "start_time": "2021-10-21T06:23:27.510660",
     "status": "completed"
    },
    "tags": []
   },
   "outputs": [
    {
     "name": "stdout",
     "output_type": "stream",
     "text": [
      "Fitting 3 folds for each of 315 candidates, totalling 945 fits\n"
     ]
    },
    {
     "data": {
      "text/plain": [
       "GridSearchCV(cv=3,\n",
       "             estimator=Pipeline(steps=[('preprocessor',\n",
       "                                        ColumnTransformer(transformers=[('numerical',\n",
       "                                                                         Pipeline(steps=[('imputer',\n",
       "                                                                                          SimpleImputer(strategy='constant')),\n",
       "                                                                                         ('quantile_transformer',\n",
       "                                                                                          QuantileTransformer(n_quantiles=700,\n",
       "                                                                                                              output_distribution='normal',\n",
       "                                                                                                              random_state=42))]),\n",
       "                                                                         Index(['MSSubClass', 'LotFrontage', 'LotArea', 'OverallQual', 'OverallCond',\n",
       "       '...\n",
       "       'GarageCond', 'PavedDrive', 'PoolQC', 'Fence', 'MiscFeature',\n",
       "       'SaleType', 'SaleCondition'],\n",
       "      dtype='object'))])),\n",
       "                                       ('model',\n",
       "                                        RandomForestRegressor(random_state=42))]),\n",
       "             n_jobs=-1,\n",
       "             param_grid={'model__max_depth': [40, 45, 50, 55, 60],\n",
       "                         'model__max_features': ['auto'],\n",
       "                         'model__min_samples_leaf': [2, 3, 5],\n",
       "                         'model__min_samples_split': [3, 5, 7],\n",
       "                         'model__n_estimators': [1000, 1200, 1300, 1400, 1500,\n",
       "                                                 1600, 1800]},\n",
       "             verbose=2)"
      ]
     },
     "execution_count": 167,
     "metadata": {},
     "output_type": "execute_result"
    }
   ],
   "source": [
    "#use grid search to turn hyperparameters further\n",
    "grid_search = GridSearchCV(estimator = rf_model, param_grid = grid_search_params, \n",
    "                          cv = 3, n_jobs = -1, verbose = 2)\n",
    "#fit grid search\n",
    "grid_search.fit(X_train, y_train)"
   ]
  },
  {
   "cell_type": "code",
   "execution_count": 178,
   "id": "f6f19c92",
   "metadata": {},
   "outputs": [
    {
     "data": {
      "text/plain": [
       "{'model__max_depth': 40,\n",
       " 'model__max_features': 'auto',\n",
       " 'model__min_samples_leaf': 2,\n",
       " 'model__min_samples_split': 5,\n",
       " 'model__n_estimators': 1600}"
      ]
     },
     "execution_count": 178,
     "metadata": {},
     "output_type": "execute_result"
    }
   ],
   "source": [
    "#print best parameters from the grid search\n",
    "grid_search.best_params_"
   ]
  },
  {
   "cell_type": "code",
   "execution_count": 179,
   "id": "aa5c528f",
   "metadata": {
    "execution": {
     "iopub.execute_input": "2021-10-21T08:54:59.351437Z",
     "iopub.status.busy": "2021-10-21T08:54:59.350712Z",
     "iopub.status.idle": "2021-10-21T08:54:59.602626Z",
     "shell.execute_reply": "2021-10-21T08:54:59.602080Z",
     "shell.execute_reply.started": "2021-10-21T05:40:59.054936Z"
    },
    "papermill": {
     "duration": 0.300076,
     "end_time": "2021-10-21T08:54:59.602782",
     "exception": false,
     "start_time": "2021-10-21T08:54:59.302706",
     "status": "completed"
    },
    "tags": []
   },
   "outputs": [
    {
     "name": "stdout",
     "output_type": "stream",
     "text": [
      "Model Performance\n",
      "RMSE = 29253.4480.\n",
      "Mean Absolute Error = 17460.5198.\n"
     ]
    }
   ],
   "source": [
    "#now we will evaluate the grid search model\n",
    "best_grid = grid_search.best_estimator_\n",
    "grid_accuracy = evaluate(best_grid, X_test, y_test)"
   ]
  },
  {
   "cell_type": "code",
   "execution_count": 186,
   "id": "1def07e4",
   "metadata": {
    "execution": {
     "iopub.execute_input": "2021-10-21T08:54:59.687451Z",
     "iopub.status.busy": "2021-10-21T08:54:59.686363Z",
     "iopub.status.idle": "2021-10-21T08:55:00.346463Z",
     "shell.execute_reply": "2021-10-21T08:55:00.346993Z"
    },
    "papermill": {
     "duration": 0.703868,
     "end_time": "2021-10-21T08:55:00.347193",
     "exception": false,
     "start_time": "2021-10-21T08:54:59.643325",
     "status": "completed"
    },
    "tags": []
   },
   "outputs": [],
   "source": [
    "#we can see that we had a slight decrease in the RMSE and MAE \n",
    "#so we will use this model to make our competition predictions\n",
    "final_pred = best_grid.predict(testing_set)\n",
    "#output predictions for Kaggle competition\n",
    "final_pred = pd.DataFrame({'Id': testing_set.index,\n",
    "                       'SalePrice': final_pred})\n",
    "final_pred.to_csv(data_path + 'predictions/random_forest_submission.csv', index=False)"
   ]
  },
  {
   "cell_type": "code",
   "execution_count": 188,
   "id": "9793c644",
   "metadata": {},
   "outputs": [],
   "source": [
    "#finally we will save our best randomCV model and our best gridCV model\n",
    "rand_forest_path = model_path + \"random_forest/\"\n",
    "with open(rand_forest_path + f'best_RandomForest.pickle', 'wb') as f:\n",
    "        pickle.dump(best_grid, f)"
   ]
  },
  {
   "cell_type": "markdown",
   "id": "b1d681d8",
   "metadata": {},
   "source": [
    "This model achieved a RMSE score of 16368.78345 on the Kaggle competition data.\n",
    "<br> Next we will explore boosting models like XGBoost and ensemble learning."
   ]
  }
 ],
 "metadata": {
  "kernelspec": {
   "display_name": "Python 3 (ipykernel)",
   "language": "python",
   "name": "python3"
  },
  "language_info": {
   "codemirror_mode": {
    "name": "ipython",
    "version": 3
   },
   "file_extension": ".py",
   "mimetype": "text/x-python",
   "name": "python",
   "nbconvert_exporter": "python",
   "pygments_lexer": "ipython3",
   "version": "3.9.5"
  },
  "papermill": {
   "default_parameters": {},
   "duration": 11439.883406,
   "end_time": "2021-10-21T08:55:02.186254",
   "environment_variables": {},
   "exception": true,
   "input_path": "__notebook__.ipynb",
   "output_path": "__notebook__.ipynb",
   "parameters": {},
   "start_time": "2021-10-21T05:44:22.302848",
   "version": "2.3.3"
  },
  "toc": {
   "base_numbering": 1,
   "nav_menu": {},
   "number_sections": false,
   "sideBar": true,
   "skip_h1_title": false,
   "title_cell": "Table of Contents",
   "title_sidebar": "Contents",
   "toc_cell": true,
   "toc_position": {},
   "toc_section_display": true,
   "toc_window_display": true
  }
 },
 "nbformat": 4,
 "nbformat_minor": 5
}
